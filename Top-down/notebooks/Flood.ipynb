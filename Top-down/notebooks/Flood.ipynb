{
 "cells": [
  {
   "cell_type": "markdown",
   "id": "7ba77d7d",
   "metadata": {},
   "source": [
    "CCDR Hazard Analysis Notebook\n",
    "Developed by M. Amadio and T. Iwanaga"
   ]
  },
  {
   "cell_type": "code",
   "execution_count": 1,
   "id": "27ad9a5b-154d-4f7a-8579-59487c6a7d76",
   "metadata": {},
   "outputs": [],
   "source": [
    "from common import *  # import necessary packages\n",
    "\n",
    "\n",
    "%matplotlib inline"
   ]
  },
  {
   "cell_type": "code",
   "execution_count": 2,
   "id": "edbaddbc-650e-4e4e-9033-770c64281177",
   "metadata": {},
   "outputs": [],
   "source": [
    "from IPython.core.debugger import Pdb"
   ]
  },
  {
   "cell_type": "code",
   "execution_count": 3,
   "id": "6738bd3b",
   "metadata": {},
   "outputs": [],
   "source": [
    "country_code_map = {\n",
    "    \"NPL\": 175,\n",
    "    \"PAK\": 188,\n",
    "    \"BGD\": 23,\n",
    "    \"GHA\": 94,\n",
    "    \"ETH\": 79\n",
    "}"
   ]
  },
  {
   "cell_type": "code",
   "execution_count": 4,
   "id": "181ff7a9",
   "metadata": {},
   "outputs": [],
   "source": [
    "def damage_factor_builtup(x):\n",
    "    \"\"\"A polynomial fit to average damage across builtup land cover relative \n",
    "    to water depth in meters in Asia.\n",
    "\n",
    "    The sectors are commercial, industry, transport, infrastructure and residential.\n",
    "\n",
    "    Values are capped between 0 and 1, where values >= 6m = 1\n",
    "\n",
    "    References\n",
    "    ----------\n",
    "    .. [1] JRC, 2017\n",
    "    \"\"\"\n",
    "    return np.maximum(0.0, np.minimum(1.0, 0.00723*x**3 - 0.1*x**2 + 0.506*x))"
   ]
  },
  {
   "cell_type": "code",
   "execution_count": 5,
   "id": "769aa7ff",
   "metadata": {},
   "outputs": [],
   "source": [
    "def damage_factor_agri(x):\n",
    "    \"\"\"A polynomial fit to average damage across agricultural land cover relative \n",
    "    to water depth in meters in Asia.\n",
    "\n",
    "    Values are capped between 0 and 1, where values >= 6m = 1\n",
    "\n",
    "    References\n",
    "    ----------\n",
    "    .. [1] JRC, 2017\n",
    "    \"\"\"\n",
    "    return np.maximum(0.0, np.minimum(1.0, 0.00723*x**3 - 0.1*x**2 + 0.506*x))\n"
   ]
  },
  {
   "cell_type": "code",
   "execution_count": 6,
   "id": "54c20a64",
   "metadata": {},
   "outputs": [],
   "source": [
    "def mortality_factor(x):\n",
    "    \"\"\"A polynomial fit to average population mortality due to nearby flooding.\n",
    "    References\n",
    "    ----------\n",
    "    .. [1] Jonkman et al, 2008\n",
    "    \"\"\"\n",
    "    return np.maximum(0.0, np.minimum(1.0, 0.985/(1+np.exp(6.32-1.412*x))))"
   ]
  },
  {
   "cell_type": "code",
   "execution_count": 7,
   "id": "d4ca2a71-2a12-4859-afb7-7479f3a37b52",
   "metadata": {},
   "outputs": [],
   "source": [
    "def preview_impact_func(bt):\n",
    "    \n",
    "    if exp_cat_dd.value == 'pop':\n",
    "        damage_factor = mortality_factor\n",
    "    elif exp_cat_dd.value == 'builtup':\n",
    "        damage_factor = damage_factor_builtup\n",
    "    elif exp_cat_dd.value == 'agri':\n",
    "        damage_factor = damage_factor_agri\n",
    "    else:\n",
    "        ValueError(\"Unknown exposure category\")\n",
    "    \n",
    "    steps = np.arange(0, 6, 0.1)\n",
    "    with output:\n",
    "        output.clear_output()\n",
    "\n",
    "        fig, ax = plt.subplots()\n",
    "        line, = ax.plot([damage_factor(x) for x in steps])\n",
    "        ax.grid(True)\n",
    "        \n",
    "        label_steps = range(0, len(steps)+10, 10)\n",
    "        ax.xaxis.set_ticks(label_steps)\n",
    "        ax.xaxis.set_ticklabels([i / 10 for i in label_steps])\n",
    "        ax.set_xlabel(\"Hazard intensity\")\n",
    "        ax.set_ylabel(\"Impact Factor\")\n",
    "        \n",
    "        display(fig)"
   ]
  },
  {
   "cell_type": "code",
   "execution_count": 8,
   "id": "53ebd7a3",
   "metadata": {},
   "outputs": [],
   "source": [
    "def run_analysis(rb):\n",
    "    with output:\n",
    "        output.clear_output()\n",
    "        print(\"Running analysis...\")\n",
    "        rb.disabled = True\n",
    "        preview_impact_button.disabled = True\n",
    "        \n",
    "    analysis_type = analysis_app_dd.value\n",
    "\n",
    "    if analysis_type == \"Classes\":\n",
    "        # Ensure values are valid\n",
    "        bin_seq = [w.value for w in class_edges.values()]\n",
    "        \n",
    "        seq = np.all([True if bin_seq[i] < bin_seq[i+1] else False for i in range(0, len(bin_seq)-1)])\n",
    "        \n",
    "        if not seq:\n",
    "            ValueError(\"Class thresholds are not sequential. Lower classes must be less than class thresholds above.\")\n",
    "            rb.disabled = False\n",
    "            preview_impact_button.disabled = False\n",
    "            return\n",
    "        \n",
    "        max_haz_threshold = np.max(bin_seq)\n",
    "        bin_seq = bin_seq + [np.inf]\n",
    "        num_bins = len(bin_seq)\n",
    "\n",
    "    # Get user input\n",
    "    country = country_dd.value\n",
    "    exp_cat = exp_cat_dd.value\n",
    "    time_horizon = time_horizon_dd.value\n",
    "    rcp_scenario = rcp_scenario_dd.value\n",
    "\n",
    "    target_ADM = adm_dd.value\n",
    "    adm_name = target_ADM.replace('_', '')\n",
    "\n",
    "    if min_haz_slider.disabled:\n",
    "        min_haz_threshold = class_edges['class_1'].value\n",
    "    else:\n",
    "        min_haz_threshold = min_haz_slider.value\n",
    "\n",
    "    valid_RPs = [10, 100, 1000]\n",
    "\n",
    "    # Testing data file locations\n",
    "    # TODO: Temp data store, to be replaced with a config spec (.env file?) before deployment\n",
    "        \n",
    "    if exp_cat_dd.value == 'pop':\n",
    "        damage_factor = mortality_factor\n",
    "        try:\n",
    "            exp_ras = f\"{DATA_DIR}/EXP/{country}_WPOP20.tif\"\n",
    "        except ValueError:\n",
    "            # TODO: Download from website if layer not available\n",
    "            exp_ras = f\"{DATA_DIR}/EXP/{country}_WPOP20.tif\"\n",
    "    elif exp_cat_dd.value == 'builtup':\n",
    "        damage_factor = damage_factor_builtup\n",
    "        exp_ras = f\"{DATA_DIR}/EXP/{country}_WSF19.tif\"\n",
    "    elif exp_cat_dd.value == 'agri':\n",
    "        damage_factor = damage_factor_agri\n",
    "        exp_ras = f\"{DATA_DIR}/EXP/{country}_ESA20_agri.tif\"\n",
    "    else:\n",
    "        ValueError(\"Missing data layer\")\n",
    "\n",
    "    # Hazard data location\n",
    "    flood_RP_data_loc = f\"{DATA_DIR}/HZD\"\n",
    "\n",
    "    '''\n",
    "    # Load or save ISO3 country list\n",
    "    iso3_path = os.path.join(DATA_DIR, \"cache/iso3.json\")\n",
    "    if not os.path.exists(iso3_path):\n",
    "        resp = json.loads(requests.get(f\"https://www.worldpop.org/rest/data/pop/wpgp?iso3={country}\").text)\n",
    "\n",
    "        with open(iso3_path, 'w') as outfile:\n",
    "            json.dump(resp, outfile)\n",
    "    else:\n",
    "        with open(iso3_path, 'r') as infile:\n",
    "            resp = json.load(infile)\n",
    "\n",
    "\n",
    "    # TODO: Download WorldPop data from API if the layer is not found (see except before)\n",
    "    # Target population data files are extracted from the JSON list downloaded above\n",
    "    metadata = resp['data'][1]\n",
    "    data_src = metadata['files']\n",
    "\n",
    "    # Save population data to cache location\n",
    "#     for data_fn in tqdm(data_src):\n",
    "#         fid = metadata['id']\n",
    "#         cache_fn = os.path.basename(data_fn)\n",
    "\n",
    "#         # Look for indicated file in cache directory\n",
    "#         # Use the data file if it is found, but warn the user. \n",
    "#         # (if data is incorrect or corrupted, they should delete it from cache)\n",
    "#         if f\"{fid}_{cache_fn}\" in os.listdir(CACHE_DIR):\n",
    "#             warnings.warn(f\"Found {fid}_{cache_fn} in cache, skipping...\")\n",
    "#             continue\n",
    "\n",
    "#         # Write to cache file if not found\n",
    "#         with open(os.path.join(CACHE_DIR, f\"{fid}_{cache_fn}\"), \"wb\") as handle:\n",
    "#             response = requests.get(data_fn)\n",
    "#             handle.write(response.content)\n",
    "\n",
    "'''\n",
    "\n",
    "    # Run analysis\n",
    "    \n",
    "    # Open exposure dataset\n",
    "    exp_data = rxr.open_rasterio(exp_ras)\n",
    "\n",
    "    # Indicate -1 values as representing no data.\n",
    "    exp_data.rio.write_nodata(-1, inplace=True)\n",
    "\n",
    "    # Load ADM2 based on country code value\n",
    "    adm_dataset = gpd.read_file(os.path.join(DATA_DIR, f\"ADM/{country}_ADM.gpkg\"), layer=f\"{country}_{adm_name}\")\n",
    "    adm_data = adm_dataset.loc[adm_dataset.ADM0_CODE == country_code_map[country], :]\n",
    "    \n",
    "    # Get all ADM code/name columns to save with results\n",
    "    adm_cols = adm_data.columns\n",
    "    all_adm_codes = adm_data.columns.str.contains(\"_CODE\")\n",
    "    all_adm_names = adm_data.columns.str.contains(\"_NAME\")\n",
    "    \n",
    "    all_adm_name_tmp = adm_cols[all_adm_names].tolist()\n",
    "    all_adm_code_tmp = adm_cols[all_adm_codes].to_list()\n",
    "\n",
    "    result_df = adm_data.loc[:, all_adm_code_tmp + all_adm_name_tmp + [\"geometry\"]]\n",
    "    \n",
    "    # Prep result structure\n",
    "    if analysis_type == \"Function\":\n",
    "        exp_sum_cols = [f\"RP{rp_i}_exp_tot\" for rp_i in valid_RPs]\n",
    "        EAI_cols = [f\"RP{rp_i}_EAI\" for rp_i in valid_RPs]\n",
    "        result_df.loc[:, exp_sum_cols + EAI_cols] = 0\n",
    "         \n",
    "    for rp in valid_RPs:\n",
    "        \n",
    "        # Probability of return period\n",
    "        # Essentially the same as 1/RP, but accounts for cases where RP == 1\n",
    "        freq = 1 - np.exp(-1/rp)\n",
    "        \n",
    "        # Get total exposure for each ADM region\n",
    "        exp_per_ADM = gen_zonal_stats(vectors=adm_data[\"geometry\"], raster=exp_ras, stats=[\"sum\"])\n",
    "        \n",
    "        result_df[f\"{adm_name}_{exp_cat}\"] = [x['sum'] for x in exp_per_ADM]\n",
    "\n",
    "        # Load corresponding flood dataset\n",
    "        flood_data = rxr.open_rasterio(os.path.join(flood_RP_data_loc, f\"{country}_RP{rp}.tif\"))\n",
    "\n",
    "        # Reproject and clip raster to same bounds as exposure data\n",
    "        flood_data = flood_data.rio.reproject_match(exp_data)\n",
    "\n",
    "        # Get raw array values for exposure and hazard layer\n",
    "        fld_array = flood_data[0].values\n",
    "\n",
    "        fld_array[fld_array < min_haz_threshold] = np.nan  # Set values below min threshold to nan\n",
    "\n",
    "        # Assign impact factor (this is F_i)\n",
    "        # TODO: Change this function call to use the relevant function depending on `exp_cat_dd`\n",
    "        if exp_cat_dd.value == 'pop':\n",
    "            impact_array = mortality_factor(fld_array)\n",
    "        elif exp_cat_dd.value == 'builtup':\n",
    "            impact_array = damage_factor_builtup(fld_array)\n",
    "        elif exp_cat_dd.value == 'agri':\n",
    "            impact_array = damage_factor_agri(fld_array)\n",
    "        \n",
    "        # Create raster from array\n",
    "        impact_rst = xr.DataArray(np.array([impact_array]).astype(np.float32), \n",
    "                                  coords=flood_data.coords, \n",
    "                                  dims=flood_data.dims)\n",
    "        \n",
    "        if save_inter_rst_chk.value:\n",
    "            impact_rst.rio.to_raster(os.path.join(OUTPUT_DIR, f\"{country}_FL_{rp}_{exp_cat}_flood_imp_factor.tif\"))\n",
    "\n",
    "\n",
    "        # Calculate affected exposure in ADM        \n",
    "        # Filter down to valid areas\n",
    "        valid_impact_areas = impact_rst.values > 0\n",
    "        affected_exp = exp_data.where(valid_impact_areas)  # Get total exposure in affected areas\n",
    "        affected_exp = affected_exp.where(affected_exp > 0)  # Out of the above, get areas that have people\n",
    "        \n",
    "        if save_inter_rst_chk.value:\n",
    "            affected_exp.rio.to_raster(os.path.join(OUTPUT_DIR, f\"{country}_FL_{rp}_{exp_cat}_flood_affected_.tif\"))\n",
    "            \n",
    "        # Conduct analyses for classes\n",
    "        if analysis_type == \"Classes\":\n",
    "            fld_array[np.isnan(fld_array)] = 0  # Set NaNs to 0\n",
    "            fld_array[fld_array > max_haz_threshold] = max_haz_threshold  # Cap large values to maximum threshold value\n",
    "\n",
    "            # Assign bin values to raster data\n",
    "            bin_idx = np.digitize(fld_array, bin_seq)\n",
    "\n",
    "            for bin_x in range(1, num_bins):\n",
    "                impact_class = gen_zonal_stats(vectors=adm_data[\"geometry\"], raster=np.array(bin_idx == bin_x).astype(int) * affected_exp.data[0],\n",
    "                                    stats=[\"sum\"], affine=affected_exp.rio.transform(), nodata=np.nan)\n",
    "                result_df[f\"RP{rp}_{exp_cat}_C{bin_x}\"] = [x['sum'] for x in impact_class]\n",
    "            # end\n",
    "            \n",
    "            C_cols = result_df.columns.str.contains(f\"RP{rp}_{exp_cat}_C\")\n",
    "            result_df[f\"RP{rp}_{exp_cat}_tot\"] = result_df.loc[:, C_cols].sum(axis=1)\n",
    "            \n",
    "            continue\n",
    "\n",
    "        # Calculate degree on impact over Exposure category\n",
    "        impact_exp = affected_exp * impact_rst.where(valid_impact_areas)  # Get impacted exposure in affected areas\n",
    "        \n",
    "        if save_inter_rst_chk.value:\n",
    "            impact_exp.rio.to_raster(os.path.join(OUTPUT_DIR, f\"{country}_FL_{exp_cat}_{rp}_impact.tif\"))\n",
    "\n",
    "        \n",
    "        impact_exp_per_ADM = gen_zonal_stats(vectors=adm_data[\"geometry\"], raster=impact_exp.data[0], \n",
    "                                             stats=[\"sum\"], affine=impact_exp.rio.transform(), nodata=0)\n",
    "        result_df[f\"RP{rp}_{exp_cat}_imp\"] = [x['sum'] for x in impact_exp_per_ADM]\n",
    "\n",
    "        # EAI_i := F_i * freq\n",
    "        EAI_i = impact_exp.where(valid_impact_areas) * freq\n",
    "\n",
    "        if save_inter_rst_chk.value:\n",
    "            # Save intermediate file if requested\n",
    "            EAI_i.rio.to_raster(os.path.join(OUTPUT_DIR, f\"{country}_FL_{exp_cat}_{rp}_EAI.tif\"))\n",
    "\n",
    "        # Get affected exposure per ADM\n",
    "        affected_exp_per_ADM = gen_zonal_stats(vectors=adm_data[\"geometry\"], raster=affected_exp.data[0], \n",
    "                                            stats=[\"sum\"], affine=affected_exp.rio.transform(), nodata=0)\n",
    "        result_df[f\"RP{rp}_{exp_cat}_tot\"] = [x['sum'] for x in affected_exp_per_ADM]\n",
    "\n",
    "\n",
    "        EAI_per_ADM = gen_zonal_stats(vectors=adm_data[\"geometry\"], raster=EAI_i.data[0],\n",
    "                                    stats=[\"sum\"], affine=EAI_i.rio.transform(), nodata=0)\n",
    "        result_df[f\"RP{rp}_EAI\"] = [x['sum'] for x in EAI_per_ADM]\n",
    "\n",
    "    if analysis_type == \"Function\":\n",
    "        # Sum all EAI to get total EAI across all RPs\n",
    "        result_df.loc[:, f\"{exp_cat}_EAI\"] = result_df.loc[:, result_df.columns.str.contains('_EAI')].sum(axis=1)\n",
    "\n",
    "        # Calculate Exp_EAI% (Percent affected exposure per year)\n",
    "        result_df.loc[:, f\"{exp_cat}_EAI%\"] = (result_df.loc[:, f\"{exp_cat}_EAI\"] / result_df.loc[:, f\"{adm_name}_{exp_cat}\"]) * 100.0\n",
    "    \n",
    "        # Reorder - need ADM code, name, and exp at the front regardless of ADM level\n",
    "        # PLEASE CHECK: after turning \"pop\" parameter into variable {exp_cat} for output fields,\n",
    "        # it resulted in duplicated fields for csv and gpkg output tables,\n",
    "        # so I removed adm_exp from the result_df below (duplicated fields) and seems to work fine\n",
    "        result_df = result_df.loc[:, all_adm_code_tmp + all_adm_name_tmp +\n",
    "                                [f\"{adm_name}_{exp_cat}\", f\"RP10_{exp_cat}_tot\", f\"RP100_{exp_cat}_tot\", f\"RP1000_{exp_cat}_tot\",\n",
    "                                f\"RP10_{exp_cat}_imp\", f\"RP100_{exp_cat}_imp\", f\"RP1000_{exp_cat}_imp\", \n",
    "                                \"RP10_EAI\", \"RP100_EAI\", \"RP1000_EAI\", f\"{exp_cat}_EAI\", f\"{exp_cat}_EAI%\", \"geometry\"]]\n",
    "\n",
    "    # Round to three decimal places to avoid giving the impression of high precision\n",
    "    result_df = result_df.round(3)\n",
    "\n",
    "    # Write table of total population in each class, in each ADM2\n",
    "    df_cols = result_df.columns\n",
    "\n",
    "    no_geom = result_df.loc[:, df_cols[~df_cols.isin(['geometry'])]].fillna(0)\n",
    "    if analysis_type == \"Function\":\n",
    "        no_geom.to_csv(os.path.join(OUTPUT_DIR, f\"{country}_FL_{adm_name}_{exp_cat}_EAI.csv\"), index=False)\n",
    "        result_df.to_file(os.path.join(OUTPUT_DIR, f\"{country}_FL_{adm_name}_{exp_cat}_EAI_function.gpkg\"))\n",
    "    elif analysis_type == \"Classes\":\n",
    "        no_geom.to_csv(os.path.join(OUTPUT_DIR, f\"{country}_FL_{adm_name}_{exp_cat}_EAI_class.csv\"), index=False)\n",
    "        result_df.to_file(os.path.join(OUTPUT_DIR, f\"{country}_FL_{adm_name}_{exp_cat}_EAI_class.gpkg\"))\n",
    "\n",
    "    with output:\n",
    "        print(\"Finished analysis.\")\n",
    "        rb.disabled = False\n",
    "\n",
    "    if preview_chk.value:\n",
    "        with output:\n",
    "            if analysis_type == \"Function\":\n",
    "                display(result_df.explore(column=f'{exp_cat}_EAI', cmap='plasma'))\n",
    "            elif analysis_type == \"Classes\":\n",
    "                # TODO: Column selected for example display only!\n",
    "                display(result_df.explore(column=f'RP10_{exp_cat}_C1', cmap='plasma'))\n"
   ]
  },
  {
   "cell_type": "code",
   "execution_count": 9,
   "id": "526bfa3f",
   "metadata": {},
   "outputs": [],
   "source": [
    "# Data option widgets\n",
    "country_dd = widgets.Dropdown(\n",
    "    options=[('Nepal', 'NPL'), ('Pakistan', 'PAK'),('Bangladesh', 'BGD'),('Ghana', 'GHA'), ('Ethiopia', 'ETH')],\n",
    "    value='NPL',\n",
    "    description='Country:',\n",
    "    style={'description_width': 'initial'}\n",
    ")\n",
    "\n",
    "exp_cat_dd = widgets.Dropdown(\n",
    "    options=[(\"Population\", \"pop\"), (\"Built-up\", \"builtup\"), (\"Agriculture\", \"agri\")],\n",
    "    value='pop',\n",
    "    description='Exposure Category:',\n",
    "    style={'description_width': 'initial'}\n",
    ")\n",
    "\n",
    "adm_dd = widgets.Dropdown(\n",
    "    options=['ADM1', 'ADM2', 'ADM3'],\n",
    "    value='ADM2',\n",
    "    description='Administrative Unit Level:',\n",
    "    style={'description_width': 'initial'}\n",
    ")\n",
    "\n",
    "min_haz_slider = widgets.FloatSlider(\n",
    "    value=0.5,\n",
    "    min=0.01,\n",
    "    max=10.0,\n",
    "    step=0.01,\n",
    "    description=\"Minimum Hazard Threshold:\",\n",
    "    style={'description_width': 'initial'}\n",
    ")\n",
    "\n",
    "# Class value inputs\n",
    "class_edges = OrderedDict({\n",
    "    f'class_{i}': widgets.BoundedFloatText(\n",
    "        value=k,\n",
    "        min=0.01,\n",
    "        max=10.0,\n",
    "        step=0.01,\n",
    "        description=f'Class {i}:',\n",
    "        tooltip=f'Minimum value of class {i}. Value must be less than the next entry.',\n",
    "        disabled=True\n",
    "    ) for (i,k) in zip(range(1,7), [0.01, 0.15, 0.5, 1, 1.5, 2])\n",
    "})\n",
    "\n",
    "# Climate component (in addition to baseline risk - load external module)\n",
    "\n",
    "time_horizon_dd = widgets.Dropdown(\n",
    "    options=[2040, 2060, 2080, 2100],\n",
    "    value=2060,\n",
    "    description='Time Horizon:',\n",
    "    style={'description_width': 'initial'}\n",
    ")\n",
    "\n",
    "rcp_scenario_dd = widgets.Dropdown(\n",
    "    options=[\"2.6\", \"4.5\", \"8.5\"],\n",
    "    value=\"4.5\",\n",
    "    description='RCP Scenario:',\n",
    "    style={'description_width': 'initial'}\n",
    ")\n",
    "\n",
    "analysis_app_dd = widgets.Dropdown(\n",
    "    options=[\"Classes\", \"Function\"],\n",
    "    value=\"Function\",\n",
    "    description='Analysis Approach:',\n",
    "    style={'description_width': 'initial'}\n",
    ")\n",
    "\n",
    "# User action widgets\n",
    "save_inter_rst_chk = widgets.Checkbox(\n",
    "    value=False,\n",
    "    description='Export Intermediate Rasters',\n",
    "    tooltip='Save rasters generated between each step (saves to nominated output directory)',\n",
    "    disabled=False,\n",
    "    indent=False\n",
    ")\n",
    "\n",
    "# Display results after runs\n",
    "preview_chk = widgets.Checkbox(\n",
    "    value=True,\n",
    "    description='Preview results',\n",
    "    tooltip='Display result after analysis',\n",
    "    disabled=False\n",
    ")\n",
    "\n",
    "\n",
    "# Run button to perform analysis\n",
    "run_button = widgets.Button(\n",
    "    description='Run Analysis',\n",
    "    button_style='', # 'success', 'info', 'warning', 'danger' or ''\n",
    "    tooltip='Click to run analysis with selected options',\n",
    "    # icon='check' # (FontAwesome names without the `fa-` prefix)\n",
    ")\n",
    "\n",
    "\n",
    "# Button to preview hazard impact function\n",
    "preview_impact_button = widgets.Button(\n",
    "    description='Preview Impact Function',\n",
    "    button_style='', # 'success', 'info', 'warning', 'danger' or ''\n",
    "    tooltip='Show preview of impact function',\n",
    "    # icon='check' # (FontAwesome names without the `fa-` prefix)\n",
    ")\n",
    "\n",
    "reset_display_button = widgets.Button(\n",
    "    description='Reset',\n",
    "    button_style='', # 'success', 'info', 'warning', 'danger' or ''\n",
    "    tooltip='Reset display',\n",
    "    # icon='check' # (FontAwesome names without the `fa-` prefix)\n",
    ")\n",
    "\n",
    "\n",
    "def reset_display(bt):\n",
    "    output.clear_output()\n",
    "    run_button.disabled = False\n",
    "    preview_impact_button.disabled = False\n",
    "\n",
    "run_button.on_click(run_analysis)\n",
    "preview_impact_button.on_click(preview_impact_func)\n",
    "reset_display_button.on_click(reset_display)\n",
    "\n",
    "\n",
    "def analysis_change(change):\n",
    "    if change.new == \"Classes\":\n",
    "        min_haz_slider.disabled = True\n",
    "        preview_impact_button.disabled = True\n",
    "        preview_chk.disabled = True\n",
    "        preview_chk.value = False\n",
    "        disable_class = False\n",
    "        \n",
    "    else:\n",
    "        min_haz_slider.disabled = False\n",
    "        preview_impact_button.disabled = False\n",
    "        preview_chk.disabled = False\n",
    "        preview_chk.value = True\n",
    "        disable_class = True\n",
    "        \n",
    "    \n",
    "    for w in class_edges.values():\n",
    "        w.disabled = disable_class\n",
    "\n",
    "analysis_app_dd.observe(analysis_change, names='value')\n",
    "\n",
    "\n",
    "# preview_button.on_click()\n",
    "\n",
    "# class_range = range(3, 11)  # remember that python uses end-exclusive range, so this is 3-10\n",
    "# selected_bin_edges = [0.5, 1, 1.5, 2, 2.5, 3]\n",
    "# min_haz_threshold = np.min(selected_bin_edges)  # determine min/max values from user-selected edges\n",
    "# max_haz_threshold = np.max(selected_bin_edges)\n",
    "# selected_bin_edges += [np.inf] # add inf last to cover anything above max threshold.\n",
    "\n",
    "# num_bins = len(selected_bin_edges)-1  # default number of bins, within the range of `class_range`"
   ]
  },
  {
   "cell_type": "code",
   "execution_count": 10,
   "id": "59a0428c",
   "metadata": {
    "tags": []
   },
   "outputs": [
    {
     "data": {
      "application/vnd.jupyter.widget-view+json": {
       "model_id": "9d74e7627213402199dc6d03c738eb65",
       "version_major": 2,
       "version_minor": 0
      },
      "text/plain": [
       "Dropdown(description='Country:', options=(('Nepal', 'NPL'), ('Pakistan', 'PAK'), ('Bangladesh', 'BGD'), ('Ghan…"
      ]
     },
     "metadata": {},
     "output_type": "display_data"
    },
    {
     "data": {
      "application/vnd.jupyter.widget-view+json": {
       "model_id": "597d8b27e26243b48228efe1178c6540",
       "version_major": 2,
       "version_minor": 0
      },
      "text/plain": [
       "Dropdown(description='Exposure Category:', options=(('Population', 'pop'), ('Built-up', 'builtup'), ('Agricult…"
      ]
     },
     "metadata": {},
     "output_type": "display_data"
    },
    {
     "data": {
      "application/vnd.jupyter.widget-view+json": {
       "model_id": "12681fe0f83d463c9573fc0417bbaf24",
       "version_major": 2,
       "version_minor": 0
      },
      "text/plain": [
       "Dropdown(description='Administrative Unit Level:', index=1, options=('ADM1', 'ADM2', 'ADM3'), style=Descriptio…"
      ]
     },
     "metadata": {},
     "output_type": "display_data"
    },
    {
     "data": {
      "application/vnd.jupyter.widget-view+json": {
       "model_id": "3053f450b012433ebd45a4c6693b35e8",
       "version_major": 2,
       "version_minor": 0
      },
      "text/plain": [
       "Dropdown(description='Time Horizon:', index=1, options=(2040, 2060, 2080, 2100), style=DescriptionStyle(descri…"
      ]
     },
     "metadata": {},
     "output_type": "display_data"
    },
    {
     "data": {
      "application/vnd.jupyter.widget-view+json": {
       "model_id": "d2ea90db1e694154802c24a75c6a5405",
       "version_major": 2,
       "version_minor": 0
      },
      "text/plain": [
       "Dropdown(description='RCP Scenario:', index=1, options=('2.6', '4.5', '8.5'), style=DescriptionStyle(descripti…"
      ]
     },
     "metadata": {},
     "output_type": "display_data"
    },
    {
     "data": {
      "application/vnd.jupyter.widget-view+json": {
       "model_id": "1ca4c8532033461e8d3c46f5511fb7fa",
       "version_major": 2,
       "version_minor": 0
      },
      "text/plain": [
       "Dropdown(description='Analysis Approach:', index=1, options=('Classes', 'Function'), style=DescriptionStyle(de…"
      ]
     },
     "metadata": {},
     "output_type": "display_data"
    },
    {
     "data": {
      "application/vnd.jupyter.widget-view+json": {
       "model_id": "65c377862fff4cab8c6dd4e6b2b5bc85",
       "version_major": 2,
       "version_minor": 0
      },
      "text/plain": [
       "FloatSlider(value=0.5, description='Minimum Hazard Threshold:', max=10.0, min=0.01, step=0.01, style=SliderSty…"
      ]
     },
     "metadata": {},
     "output_type": "display_data"
    },
    {
     "data": {
      "application/vnd.jupyter.widget-view+json": {
       "model_id": "19c777a3911f49fd86a7af149079a820",
       "version_major": 2,
       "version_minor": 0
      },
      "text/plain": [
       "BoundedFloatText(value=0.01, description='Class 1:', disabled=True, max=10.0, min=0.01, step=0.01)"
      ]
     },
     "metadata": {},
     "output_type": "display_data"
    },
    {
     "data": {
      "application/vnd.jupyter.widget-view+json": {
       "model_id": "37faa6b9d025489f9c32413be4849561",
       "version_major": 2,
       "version_minor": 0
      },
      "text/plain": [
       "BoundedFloatText(value=0.15, description='Class 2:', disabled=True, max=10.0, min=0.01, step=0.01)"
      ]
     },
     "metadata": {},
     "output_type": "display_data"
    },
    {
     "data": {
      "application/vnd.jupyter.widget-view+json": {
       "model_id": "f37dd63fb4784cb79177a2a2c386b0d0",
       "version_major": 2,
       "version_minor": 0
      },
      "text/plain": [
       "BoundedFloatText(value=0.5, description='Class 3:', disabled=True, max=10.0, min=0.01, step=0.01)"
      ]
     },
     "metadata": {},
     "output_type": "display_data"
    },
    {
     "data": {
      "application/vnd.jupyter.widget-view+json": {
       "model_id": "79ed71c9f8ee4470a936776b74d79ef7",
       "version_major": 2,
       "version_minor": 0
      },
      "text/plain": [
       "BoundedFloatText(value=1.0, description='Class 4:', disabled=True, max=10.0, min=0.01, step=0.01)"
      ]
     },
     "metadata": {},
     "output_type": "display_data"
    },
    {
     "data": {
      "application/vnd.jupyter.widget-view+json": {
       "model_id": "ffc11e589e304dbc9ff8abcc2ae5f5de",
       "version_major": 2,
       "version_minor": 0
      },
      "text/plain": [
       "BoundedFloatText(value=1.5, description='Class 5:', disabled=True, max=10.0, min=0.01, step=0.01)"
      ]
     },
     "metadata": {},
     "output_type": "display_data"
    },
    {
     "data": {
      "application/vnd.jupyter.widget-view+json": {
       "model_id": "1438659ab3be41c6955bd819c7996f81",
       "version_major": 2,
       "version_minor": 0
      },
      "text/plain": [
       "BoundedFloatText(value=2.0, description='Class 6:', disabled=True, max=10.0, min=0.01, step=0.01)"
      ]
     },
     "metadata": {},
     "output_type": "display_data"
    },
    {
     "data": {
      "application/vnd.jupyter.widget-view+json": {
       "model_id": "2423cd93daeb419882a36e900ebb97ab",
       "version_major": 2,
       "version_minor": 0
      },
      "text/plain": [
       "HBox(children=(Button(description='Run Analysis', style=ButtonStyle(), tooltip='Click to run analysis with sel…"
      ]
     },
     "metadata": {},
     "output_type": "display_data"
    },
    {
     "data": {
      "application/vnd.jupyter.widget-view+json": {
       "model_id": "aabcc093f5064bf9af9e47e58dd252ff",
       "version_major": 2,
       "version_minor": 0
      },
      "text/plain": [
       "Button(description='Preview Impact Function', style=ButtonStyle(), tooltip='Show preview of impact function')"
      ]
     },
     "metadata": {},
     "output_type": "display_data"
    },
    {
     "data": {
      "application/vnd.jupyter.widget-view+json": {
       "model_id": "e0ba90154e544dd188fd6d5fe7034cf5",
       "version_major": 2,
       "version_minor": 0
      },
      "text/plain": [
       "Button(description='Reset', style=ButtonStyle(), tooltip='Reset display')"
      ]
     },
     "metadata": {},
     "output_type": "display_data"
    },
    {
     "data": {
      "application/vnd.jupyter.widget-view+json": {
       "model_id": "a9e65e2a61c848aa8c849ec7e193efd1",
       "version_major": 2,
       "version_minor": 0
      },
      "text/plain": [
       "Output()"
      ]
     },
     "metadata": {},
     "output_type": "display_data"
    }
   ],
   "source": [
    "display(country_dd)\n",
    "display(exp_cat_dd)\n",
    "display(adm_dd)\n",
    "display(time_horizon_dd)\n",
    "display(rcp_scenario_dd)\n",
    "display(analysis_app_dd)\n",
    "display(min_haz_slider)\n",
    "[display(w) for w in class_edges.values()]\n",
    "\n",
    "display(HBox([run_button, preview_chk, save_inter_rst_chk]), \n",
    "        preview_impact_button, reset_display_button)\n",
    "\n",
    "output = widgets.Output()\n",
    "display(output)"
   ]
  },
  {
   "cell_type": "code",
   "execution_count": 11,
   "id": "fe9e32f3",
   "metadata": {},
   "outputs": [],
   "source": [
    "# analysis_app_dd.value = \"Classes\"\n",
    "# exp_cat_dd.value = \"pop\"\n",
    "# class_edges[\"class_1\"].value = 0.8\n",
    "# run_analysis(run_button)"
   ]
  },
  {
   "cell_type": "code",
   "execution_count": null,
   "id": "da14722d-4faf-4b9b-8a95-ef85037ccf2f",
   "metadata": {},
   "outputs": [],
   "source": []
  }
 ],
 "metadata": {
  "interpreter": {
   "hash": "b6d8b26c4f649b8a27f8996ac75dd87b5987470d4d00d1b2c02ba594e155f4b5"
  },
  "kernelspec": {
   "display_name": "Python 3 (ipykernel)",
   "language": "python",
   "name": "python3"
  },
  "language_info": {
   "codemirror_mode": {
    "name": "ipython",
    "version": 3
   },
   "file_extension": ".py",
   "mimetype": "text/x-python",
   "name": "python",
   "nbconvert_exporter": "python",
   "pygments_lexer": "ipython3",
   "version": "3.10.2"
  }
 },
 "nbformat": 4,
 "nbformat_minor": 5
}
