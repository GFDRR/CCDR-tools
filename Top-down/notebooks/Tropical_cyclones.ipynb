{
 "cells": [
  {
   "cell_type": "markdown",
   "id": "7ba77d7d",
   "metadata": {},
   "source": [
    "CCDR Hazard Analysis Notebook\n",
    "Developed by M. Amadio and T. Iwanaga"
   ]
  },
  {
   "cell_type": "code",
   "execution_count": 11,
   "id": "27ad9a5b-154d-4f7a-8579-59487c6a7d76",
   "metadata": {},
   "outputs": [],
   "source": [
    "from common import *  # import necessary packages\n",
    "\n",
    "%matplotlib inline"
   ]
  },
  {
   "cell_type": "code",
   "execution_count": 12,
   "id": "edbaddbc-650e-4e4e-9033-770c64281177",
   "metadata": {},
   "outputs": [],
   "source": [
    "from IPython.core.debugger import Pdb"
   ]
  },
  {
   "cell_type": "code",
   "execution_count": 13,
   "id": "6738bd3b",
   "metadata": {},
   "outputs": [],
   "source": [
    "country_code_map = {\n",
    "    \"NPL\": 175,\n",
    "    \"PAK\": 188,\n",
    "    \"BGD\": 23,\n",
    "    \"GHA\": 94,\n",
    "    \"ETH\": 79,\n",
    "    \"BFA\": 42,\n",
    "    \"MLI\": 155,\n",
    "    \"NER\": 181,\n",
    "    \"TCD\": 50,\n",
    "    \"MRT\": 159\n",
    "}"
   ]
  },
  {
   "cell_type": "code",
   "execution_count": 14,
   "id": "181ff7a9",
   "metadata": {},
   "outputs": [],
   "source": [
    "def damage_factor_builtup(x):\n",
    "    \"\"\"A general arithmetic function for cyclone wind damage over builtup land cover.\n",
    "\n",
    "    =MAX(WS-92.52;0)/176.4)^3)/(1+(WS(O6-92.52;0)/176.4)^3\n",
    "\n",
    "    Values are capped between 0 and 1, where values >= 556 km/h = 1\n",
    "\n",
    "    References\n",
    "    ----------\n",
    "    .. [1] Emanuel et al, 2011; Sealy and Strobl, 2017\n",
    "    \"\"\"\n",
    "    return np.maximum(0.0, np.minimum(1.0, ((np.maximum(x-92.52, 0)/176.4)**3)/(1+(np.maximum(x-92.52, 0)/176.4)**3)))"
   ]
  },
  {
   "cell_type": "code",
   "execution_count": 15,
   "id": "769aa7ff",
   "metadata": {},
   "outputs": [],
   "source": [
    "def damage_factor_agri(x):\n",
    "    \"\"\"\n",
    "    \"\"\"\n",
    "    return np.maximum(0.0, np.minimum(1.0, x))\n"
   ]
  },
  {
   "cell_type": "code",
   "execution_count": 16,
   "id": "54c20a64",
   "metadata": {},
   "outputs": [],
   "source": [
    "def mortality_factor(x):\n",
    "    \"\"\"\n",
    "    \"\"\"\n",
    "    return np.maximum(0.0, np.minimum(1.0, x))"
   ]
  },
  {
   "cell_type": "code",
   "execution_count": 17,
   "id": "d4ca2a71-2a12-4859-afb7-7479f3a37b52",
   "metadata": {},
   "outputs": [],
   "source": [
    "def preview_impact_func(bt):\n",
    "    \n",
    "    if exp_cat_dd.value == 'pop':\n",
    "        damage_factor = mortality_factor\n",
    "    elif exp_cat_dd.value == 'builtup':\n",
    "        damage_factor = damage_factor_builtup\n",
    "    elif exp_cat_dd.value == 'agri':\n",
    "        damage_factor = damage_factor_agri\n",
    "    else:\n",
    "        ValueError(\"Unknown exposure category\")\n",
    "    \n",
    "    steps = np.arange(0, 600, 10)\n",
    "    with output:\n",
    "        output.clear_output()\n",
    "\n",
    "        fig, ax = plt.subplots()\n",
    "        line, = ax.plot([damage_factor(x) for x in steps])\n",
    "        ax.grid(True)\n",
    "        \n",
    "        label_steps = range(0, len(steps)+1, 10)\n",
    "        ax.xaxis.set_ticks(label_steps)\n",
    "        ax.xaxis.set_ticklabels([i * 10 for i in label_steps])\n",
    "        ax.set_xlabel(\"Hazard intensity\")\n",
    "        ax.set_ylabel(\"Impact Factor\")\n",
    "        \n",
    "        display(fig)"
   ]
  },
  {
   "cell_type": "code",
   "execution_count": 18,
   "id": "53ebd7a3",
   "metadata": {},
   "outputs": [],
   "source": [
    "def run_analysis(rb):\n",
    "    with output:\n",
    "        output.clear_output()\n",
    "        rb.disabled = True\n",
    "        preview_impact_button.disabled = True\n",
    "        print(\"Running analysis...\")\n",
    "        \n",
    "    analysis_type = analysis_app_dd.value\n",
    "\n",
    "    if analysis_type == \"Classes\":\n",
    "        # Ensure class threshold values are valid\n",
    "\n",
    "        bin_seq = [w.value for w in class_edges.values()]        \n",
    "        seq = np.all([True if bin_seq[i] < bin_seq[i+1] else False for i in range(0, len(bin_seq)-1)])\n",
    "        \n",
    "        if not seq:\n",
    "            ValueError(\"Class thresholds are not sequential. Lower classes must be less than class thresholds above.\")\n",
    "            rb.disabled = False\n",
    "            preview_impact_button.disabled = False\n",
    "            return\n",
    "        \n",
    "        max_bin_value = np.max(bin_seq)\n",
    "        max_haz_threshold = max_bin_value + 1e-4\n",
    "        bin_seq = bin_seq + [np.inf]\n",
    "        num_bins = len(bin_seq)\n",
    "\n",
    "    # Get user input\n",
    "    country = country_dd.value\n",
    "    exp_cat = exp_cat_dd.value\n",
    "    time_horizon = time_horizon_dd.value\n",
    "    rcp_scenario = rcp_scenario_dd.value\n",
    "\n",
    "    target_ADM = adm_dd.value\n",
    "    adm_name = target_ADM.replace('_', '')\n",
    "\n",
    "    if analysis_type == \"Classes\":\n",
    "        min_haz_threshold = class_edges['class_1'].value\n",
    "    else:\n",
    "        min_haz_threshold = min_haz_slider.value\n",
    "\n",
    "    valid_RPs = [50, 250, 1000]\n",
    "\n",
    "    # Testing data file locations\n",
    "    # TODO: Temp data store, to be replaced with a config spec (.env file?) before deployment\n",
    "    \n",
    "    exposure_dir = f\"{DATA_DIR}/EXP/{country}\"\n",
    "    if exp_cat_dd.value == 'pop':\n",
    "        damage_factor = mortality_factor\n",
    "        exp_raster_fn = f\"{exposure_dir}_WPOP20.tif\"\n",
    "    elif exp_cat_dd.value == 'builtup':\n",
    "        damage_factor = damage_factor_builtup\n",
    "        exp_raster_fn = f\"{exposure_dir}_WSF19.tif\"\n",
    "    elif exp_cat_dd.value == 'agri':\n",
    "        damage_factor = damage_factor_agri\n",
    "        exp_raster_fn = f\"{exposure_dir}_ESA20_agri.tif\"\n",
    "    else:\n",
    "        ValueError(f\"Missing or unknown data layer {exp_cat_dd.value}\")\n",
    "\n",
    "    # Hazard data location\n",
    "    hazard_RP_data_loc = f\"{DATA_DIR}/HZD\"\n",
    "\n",
    "    # Run analysis\n",
    "    \n",
    "    # Open exposure dataset\n",
    "    exposure_rst = rxr.open_rasterio(exp_raster_fn)\n",
    "\n",
    "    # Indicate -1 values as representing no data.\n",
    "    exposure_rst.rio.write_nodata(-1, inplace=True)\n",
    "\n",
    "    # Load ADM based on country code value\n",
    "    try:\n",
    "        adm_dataset = gpd.read_file(os.path.join(DATA_DIR, f\"ADM/{country}_ADM.gpkg\"), layer=f\"{country}_{adm_name}\")\n",
    "    except ValueError:\n",
    "        print(\"Missing ADM layer!\")\n",
    "        \n",
    "    adm_data = adm_dataset.loc[adm_dataset.ADM0_CODE == country_code_map[country], :]\n",
    "    \n",
    "    # Get all ADM code/name columns to save with results\n",
    "    adm_cols = adm_data.columns\n",
    "    all_adm_codes = adm_data.columns.str.contains(\"_CODE\")\n",
    "    all_adm_names = adm_data.columns.str.contains(\"_NAME\")\n",
    "    \n",
    "    all_adm_name_tmp = adm_cols[all_adm_names].tolist()\n",
    "    all_adm_code_tmp = adm_cols[all_adm_codes].to_list()\n",
    "\n",
    "    result_df = adm_data.loc[:, all_adm_code_tmp + all_adm_name_tmp + [\"geometry\"]]\n",
    "    \n",
    "    # Prep result structure\n",
    "    if analysis_type == \"Function\":\n",
    "        exp_sum_cols = [f\"RP{rp_i}_exp_tot\" for rp_i in valid_RPs]\n",
    "        EAI_cols = [f\"RP{rp_i}_EAI\" for rp_i in valid_RPs]\n",
    "        result_df.loc[:, exp_sum_cols + EAI_cols] = 0\n",
    "        \n",
    "    # Get total exposure for each ADM region\n",
    "    exp_per_ADM = gen_zonal_stats(vectors=adm_data[\"geometry\"], raster=exp_raster_fn, stats=[\"sum\"])\n",
    "    result_df[f\"{adm_name}_{exp_cat}\"] = [x['sum'] for x in exp_per_ADM]\n",
    "\n",
    "    if save_inter_rst_chk.value:\n",
    "        affected_exp_rst.rio.to_raster(os.path.join(OUTPUT_DIR, f\"{country}_SW_{rp}_{exp_cat}_hazard_affected_.tif\"))\n",
    "         \n",
    "    for rp in valid_RPs:\n",
    "        # Probability of return period\n",
    "        # Essentially the same as 1/RP, but accounts for cases where RP == 1\n",
    "        freq = 1 - np.exp(-1/rp)\n",
    "\n",
    "        # Load corresponding hazard dataset\n",
    "        hazard_rst = rxr.open_rasterio(os.path.join(hazard_RP_data_loc, f\"GLB_SW_RP{rp}.tif\"))\n",
    "\n",
    "        # Reproject and clip raster to same bounds as exposure data\n",
    "        hazard_rst = hazard_rst.rio.reproject_match(exposure_rst)\n",
    "        \n",
    "        # Get raw array values for exposure and hazard layer\n",
    "        hazard_arr = hazard_rst[0].values\n",
    "        hazard_arr[hazard_arr < min_haz_threshold] = np.nan  # Set values below min threshold to nan\n",
    "        \n",
    "        if analysis_type == \"Function\":\n",
    "            # Assign impact factor (this is F_i)\n",
    "            if exp_cat_dd.value == 'pop':\n",
    "                impact_arr = mortality_factor(hazard_arr)\n",
    "            elif exp_cat_dd.value == 'builtup':\n",
    "                impact_arr = damage_factor_builtup(hazard_arr)\n",
    "            elif exp_cat_dd.value == 'agri':\n",
    "                impact_arr = damage_factor_agri(hazard_arr)\n",
    "\n",
    "            # Create raster from array\n",
    "            impact_rst = xr.DataArray(np.array([impact_arr]).astype(np.float32), \n",
    "                                      coords=hazard_rst.coords, \n",
    "                                      dims=hazard_rst.dims)\n",
    "\n",
    "            if save_inter_rst_chk.value:\n",
    "                impact_rst.rio.to_raster(os.path.join(OUTPUT_DIR, f\"{country}_SW_{rp}_{exp_cat}_hazard_imp_factor.tif\"))\n",
    "        else:\n",
    "            impact_rst = hazard_rst\n",
    "\n",
    "        # Calculate affected exposure in ADM\n",
    "        # Filter down to valid areas\n",
    "        valid_impact_areas = impact_rst.values > 0\n",
    "        affected_exp_rst = exposure_rst.where(valid_impact_areas)  # Get total exposure in affected areas\n",
    "        affected_exp_rst = affected_exp_rst.where(affected_exp_rst > 0)  # Out of the above, get areas that have people\n",
    "            \n",
    "        # Conduct analyses for classes\n",
    "        if analysis_type == \"Classes\":\n",
    "            hazard_arr[np.isnan(hazard_arr)] = 0  # Set NaNs to 0\n",
    "            hazard_arr[hazard_arr > max_bin_value] = max_haz_threshold  # Cap large values to maximum threshold value\n",
    "\n",
    "            # Assign bin values to raster data\n",
    "            # Follows: x_{i-1} <= x_{i} < x_{i+1}\n",
    "            bin_idx = np.digitize(hazard_arr, bin_seq)\n",
    "\n",
    "            for bin_x in range(1, num_bins):\n",
    "                impact_class = gen_zonal_stats(vectors=adm_data[\"geometry\"], raster=np.array(bin_idx == bin_x).astype(int) * affected_exp_rst.data[0],\n",
    "                                    stats=[\"sum\"], affine=affected_exp_rst.rio.transform(), nodata=np.nan)\n",
    "                result_df[f\"RP{rp}_{exp_cat}_C{bin_x}\"] = [x['sum'] for x in impact_class]\n",
    "            # end\n",
    "            \n",
    "            C_cols = result_df.columns.str.contains(f\"RP{rp}_{exp_cat}_C\")\n",
    "            result_df[f\"RP{rp}_{exp_cat}_tot\"] = result_df.loc[:, C_cols].sum(axis=1)\n",
    "            \n",
    "            continue\n",
    "\n",
    "        # Calculate degree on impact over Exposure category\n",
    "        impact_exp_rst = affected_exp_rst * impact_rst.where(valid_impact_areas)  # Get impacted exposure in affected areas\n",
    "        \n",
    "        if save_inter_rst_chk.value:\n",
    "            impact_exp_rst.rio.to_raster(os.path.join(OUTPUT_DIR, f\"{country}_SW_{exp_cat}_{rp}_impact.tif\"))\n",
    "\n",
    "        \n",
    "        impact_exp_per_ADM = gen_zonal_stats(vectors=adm_data[\"geometry\"], raster=impact_exp_rst.data[0], \n",
    "                                             stats=[\"sum\"], affine=impact_exp_rst.rio.transform(), nodata=0)\n",
    "        result_df[f\"RP{rp}_{exp_cat}_imp\"] = [x['sum'] for x in impact_exp_per_ADM]\n",
    "\n",
    "        # EAI_i := F_i * freq\n",
    "        EAI_i = impact_exp_rst.where(valid_impact_areas) * freq\n",
    "\n",
    "        if save_inter_rst_chk.value:\n",
    "            # Save intermediate file if requested\n",
    "            EAI_i.rio.to_raster(os.path.join(OUTPUT_DIR, f\"{country}_SW_{exp_cat}_{rp}_EAI.tif\"))\n",
    "\n",
    "        # Get affected exposure per ADM\n",
    "        affected_exp_per_ADM = gen_zonal_stats(vectors=adm_data[\"geometry\"], raster=affected_exp_rst.data[0], \n",
    "                                            stats=[\"sum\"], affine=affected_exp_rst.rio.transform(), nodata=0)\n",
    "        result_df[f\"RP{rp}_{exp_cat}_tot\"] = [x['sum'] for x in affected_exp_per_ADM]\n",
    "\n",
    "\n",
    "        EAI_per_ADM = gen_zonal_stats(vectors=adm_data[\"geometry\"], raster=EAI_i.data[0],\n",
    "                                    stats=[\"sum\"], affine=EAI_i.rio.transform(), nodata=0)\n",
    "        result_df[f\"RP{rp}_EAI\"] = [x['sum'] for x in EAI_per_ADM]\n",
    "    # End RP loop\n",
    "\n",
    "    if analysis_type == \"Function\":\n",
    "        # Sum all EAI to get total EAI across all RPs\n",
    "        result_df.loc[:, f\"{exp_cat}_EAI\"] = result_df.loc[:, result_df.columns.str.contains('_EAI')].sum(axis=1)\n",
    "\n",
    "        # Calculate Exp_EAI% (Percent affected exposure per year)\n",
    "        result_df.loc[:, f\"{exp_cat}_EAI%\"] = (result_df.loc[:, f\"{exp_cat}_EAI\"] / result_df.loc[:, f\"{adm_name}_{exp_cat}\"]) * 100.0\n",
    "    \n",
    "        # Reorder - need ADM code, name, and exp at the front regardless of ADM level\n",
    "        result_df = result_df.loc[:, all_adm_code_tmp + all_adm_name_tmp +\n",
    "                                [f\"{adm_name}_{exp_cat}\", f\"RP50_{exp_cat}_tot\", f\"RP250_{exp_cat}_tot\", f\"RP1000_{exp_cat}_tot\",\n",
    "                                f\"RP50_{exp_cat}_imp\", f\"RP250_{exp_cat}_imp\", f\"RP1000_{exp_cat}_imp\", \n",
    "                                \"RP50_EAI\", \"RP250_EAI\", \"RP1000_EAI\", f\"{exp_cat}_EAI\", f\"{exp_cat}_EAI%\", \"geometry\"]]\n",
    "\n",
    "    # Round to three decimal places to avoid giving the impression of high precision\n",
    "    result_df = result_df.round(3)\n",
    "\n",
    "    # Write table of total population in each class, in each ADM2\n",
    "    df_cols = result_df.columns\n",
    "\n",
    "    no_geom = result_df.loc[:, df_cols[~df_cols.isin(['geometry'])]].fillna(0)\n",
    "    if analysis_type == \"Function\":\n",
    "        no_geom.to_csv(os.path.join(OUTPUT_DIR, f\"{country}_SW_{adm_name}_{exp_cat}_EAI.csv\"), index=False)\n",
    "        result_df.to_file(os.path.join(OUTPUT_DIR, f\"{country}_SW_{adm_name}_{exp_cat}_EAI.gpkg\"))\n",
    "    elif analysis_type == \"Classes\":\n",
    "        no_geom.to_csv(os.path.join(OUTPUT_DIR, f\"{country}_SW_{adm_name}_{exp_cat}_class.csv\"), index=False)\n",
    "        result_df.to_file(os.path.join(OUTPUT_DIR, f\"{country}_SW_{adm_name}_{exp_cat}_class.gpkg\"))\n",
    "\n",
    "    with output:\n",
    "        print(\"Finished analysis.\")\n",
    "        rb.disabled = False\n",
    "\n",
    "    if preview_chk.value:\n",
    "        with output:\n",
    "            if analysis_type == \"Function\":\n",
    "                display(result_df.explore(column=f'{exp_cat}_EAI', cmap='plasma'))\n",
    "\n",
    "                exp_total = result_df.columns.str.contains(f'_{exp_cat}_tot')\n",
    "                exp_imp = result_df.columns.str.contains(f'_{exp_cat}_imp')\n",
    "                exp_EAI = result_df.columns.str.contains(f'_{exp_cat}_EAI')\n",
    "                \n",
    "                result_df.loc[:, ]\n",
    "            elif analysis_type == \"Classes\":\n",
    "                # TODO: C1 Column selected for example display only!\n",
    "                display(result_df.explore(column=f'RP10_{exp_cat}_C1', cmap='plasma'))\n"
   ]
  },
  {
   "cell_type": "code",
   "execution_count": 19,
   "id": "526bfa3f",
   "metadata": {},
   "outputs": [],
   "source": [
    "# Data option widgets\n",
    "country_dd = widgets.Dropdown(\n",
    "    options=[('Nepal', 'NPL'), ('Pakistan', 'PAK'),('Bangladesh', 'BGD'),('Ghana', 'GHA'),\n",
    "            ('Ethiopia', 'ETH'), ('Burkina Faso', 'BFA'), ('Mali', 'MLI'), ('Niger', 'NER'),\n",
    "            ('Chad', 'TCD'), ('Mauritania', 'MRT')],\n",
    "    value='NPL',\n",
    "    description='Country:',\n",
    "    style={'description_width': 'initial'}\n",
    ")\n",
    "\n",
    "exp_cat_dd = widgets.Dropdown(\n",
    "    options=[(\"Population\", \"pop\"), (\"Built-up\", \"builtup\"), (\"Agriculture\", \"agri\")],\n",
    "    value='pop',\n",
    "    description='Exposure Category:',\n",
    "    style={'description_width': 'initial'}\n",
    ")\n",
    "\n",
    "adm_dd = widgets.Dropdown(\n",
    "    options=['ADM1', 'ADM2', 'ADM3'],\n",
    "    value='ADM2',\n",
    "    description='Administrative Unit Level:',\n",
    "    style={'description_width': 'initial'}\n",
    ")\n",
    "\n",
    "min_haz_slider = widgets.FloatSlider(\n",
    "    value=0.5,\n",
    "    min=0.01,\n",
    "    max=10.0,\n",
    "    step=0.01,\n",
    "    description=\"Minimum Hazard Threshold:\",\n",
    "    style={'description_width': 'initial'}\n",
    ")\n",
    "\n",
    "# Class value inputs\n",
    "class_edges = OrderedDict({\n",
    "    f'class_{i+1}': widgets.BoundedFloatText(\n",
    "        value=k,\n",
    "        min=0.01,\n",
    "        max=10.0,\n",
    "        step=0.01,\n",
    "        description=f'Class {i+1}:',\n",
    "        tooltip=f'Minimum value of class {i+1}. Value must be less than the next entry.',\n",
    "        disabled=True\n",
    "    ) for (i,k) in enumerate([0.01, 0.15, 0.5, 1, 1.5, 2])\n",
    "})\n",
    "\n",
    "# Climate component (in addition to baseline risk - load external module)\n",
    "\n",
    "time_horizon_dd = widgets.Dropdown(\n",
    "    options=[2040, 2060, 2080, 2100],\n",
    "    value=2060,\n",
    "    description='Time Horizon:',\n",
    "    style={'description_width': 'initial'}\n",
    ")\n",
    "\n",
    "rcp_scenario_dd = widgets.Dropdown(\n",
    "    options=[\"2.6\", \"4.5\", \"8.5\"],\n",
    "    value=\"4.5\",\n",
    "    description='RCP Scenario:',\n",
    "    style={'description_width': 'initial'}\n",
    ")\n",
    "\n",
    "analysis_app_dd = widgets.Dropdown(\n",
    "    options=[\"Classes\", \"Function\"],\n",
    "    value=\"Function\",\n",
    "    description='Analysis Approach:',\n",
    "    style={'description_width': 'initial'}\n",
    ")\n",
    "\n",
    "# User action widgets\n",
    "save_inter_rst_chk = widgets.Checkbox(\n",
    "    value=False,\n",
    "    description='Export Intermediate Rasters',\n",
    "    tooltip='Save rasters generated between each step (saves to nominated output directory)',\n",
    "    disabled=False,\n",
    "    indent=False\n",
    ")\n",
    "\n",
    "# Display results after runs\n",
    "preview_chk = widgets.Checkbox(\n",
    "    value=True,\n",
    "    description='Preview results',\n",
    "    tooltip='Display result after analysis',\n",
    "    disabled=False\n",
    ")\n",
    "\n",
    "\n",
    "# Run button to perform analysis\n",
    "run_button = widgets.Button(\n",
    "    description='Run Analysis',\n",
    "    button_style='', # 'success', 'info', 'warning', 'danger' or ''\n",
    "    tooltip='Click to run analysis with selected options',\n",
    "    # icon='check' # (FontAwesome names without the `fa-` prefix)\n",
    ")\n",
    "\n",
    "\n",
    "# Button to preview hazard impact function\n",
    "preview_impact_button = widgets.Button(\n",
    "    description='Preview Impact Function',\n",
    "    button_style='', # 'success', 'info', 'warning', 'danger' or ''\n",
    "    tooltip='Show preview of impact function',\n",
    "    # icon='check' # (FontAwesome names without the `fa-` prefix)\n",
    ")\n",
    "\n",
    "reset_display_button = widgets.Button(\n",
    "    description='Reset',\n",
    "    button_style='', # 'success', 'info', 'warning', 'danger' or ''\n",
    "    tooltip='Reset display',\n",
    "    # icon='check' # (FontAwesome names without the `fa-` prefix)\n",
    ")\n",
    "\n",
    "\n",
    "def reset_display(bt):\n",
    "    output.clear_output()\n",
    "    run_button.disabled = False\n",
    "    \n",
    "    if analysis_app_dd.value == \"Function\":\n",
    "        preview_impact_button.disabled = False\n",
    "\n",
    "run_button.on_click(run_analysis)\n",
    "preview_impact_button.on_click(preview_impact_func)\n",
    "reset_display_button.on_click(reset_display)\n",
    "\n",
    "\n",
    "def analysis_change(change):\n",
    "    if change.new == \"Classes\":\n",
    "        min_haz_slider.disabled = True\n",
    "        preview_impact_button.disabled = True\n",
    "        preview_chk.disabled = True\n",
    "        preview_chk.value = False\n",
    "        disable_class = False\n",
    "        \n",
    "    else:\n",
    "        min_haz_slider.disabled = False\n",
    "        preview_impact_button.disabled = False\n",
    "        preview_chk.disabled = False\n",
    "        preview_chk.value = True\n",
    "        disable_class = True\n",
    "        \n",
    "    \n",
    "    for w in class_edges.values():\n",
    "        w.disabled = disable_class\n",
    "\n",
    "analysis_app_dd.observe(analysis_change, names='value')\n",
    "\n",
    "\n",
    "# preview_button.on_click()\n",
    "\n",
    "# class_range = range(3, 11)  # remember that python uses end-exclusive range, so this is 3-10\n",
    "# selected_bin_edges = [0.5, 1, 1.5, 2, 2.5, 3]\n",
    "# min_haz_threshold = np.min(selected_bin_edges)  # determine min/max values from user-selected edges\n",
    "# max_haz_threshold = np.max(selected_bin_edges)\n",
    "# selected_bin_edges += [np.inf] # add inf last to cover anything above max threshold.\n",
    "\n",
    "# num_bins = len(selected_bin_edges)-1  # default number of bins, within the range of `class_range`"
   ]
  },
  {
   "cell_type": "code",
   "execution_count": 20,
   "id": "59a0428c",
   "metadata": {
    "scrolled": false,
    "tags": []
   },
   "outputs": [
    {
     "data": {
      "application/vnd.jupyter.widget-view+json": {
       "model_id": "0ac90cf937fa4d28add97a14d5a24f9f",
       "version_major": 2,
       "version_minor": 0
      },
      "text/plain": [
       "Dropdown(description='Country:', options=(('Nepal', 'NPL'), ('Pakistan', 'PAK'), ('Bangladesh', 'BGD'), ('Ghan…"
      ]
     },
     "metadata": {},
     "output_type": "display_data"
    },
    {
     "data": {
      "application/vnd.jupyter.widget-view+json": {
       "model_id": "5544cba7011e4fe29f5287f050f7f460",
       "version_major": 2,
       "version_minor": 0
      },
      "text/plain": [
       "Dropdown(description='Exposure Category:', options=(('Population', 'pop'), ('Built-up', 'builtup'), ('Agricult…"
      ]
     },
     "metadata": {},
     "output_type": "display_data"
    },
    {
     "data": {
      "application/vnd.jupyter.widget-view+json": {
       "model_id": "18dec8e4562b488e9a7bf1b0dbd70c29",
       "version_major": 2,
       "version_minor": 0
      },
      "text/plain": [
       "Dropdown(description='Administrative Unit Level:', index=1, options=('ADM1', 'ADM2', 'ADM3'), style=Descriptio…"
      ]
     },
     "metadata": {},
     "output_type": "display_data"
    },
    {
     "data": {
      "application/vnd.jupyter.widget-view+json": {
       "model_id": "fd175f9475704a7ea14063e6b38bfbf2",
       "version_major": 2,
       "version_minor": 0
      },
      "text/plain": [
       "Dropdown(description='Analysis Approach:', index=1, options=('Classes', 'Function'), style=DescriptionStyle(de…"
      ]
     },
     "metadata": {},
     "output_type": "display_data"
    },
    {
     "data": {
      "application/vnd.jupyter.widget-view+json": {
       "model_id": "03a0d971bcda4191b7a15264ded0dc32",
       "version_major": 2,
       "version_minor": 0
      },
      "text/plain": [
       "FloatSlider(value=0.5, description='Minimum Hazard Threshold:', max=10.0, min=0.01, step=0.01, style=SliderSty…"
      ]
     },
     "metadata": {},
     "output_type": "display_data"
    },
    {
     "data": {
      "application/vnd.jupyter.widget-view+json": {
       "model_id": "39456a4e50cc4de5898d0628ff1aa97f",
       "version_major": 2,
       "version_minor": 0
      },
      "text/plain": [
       "BoundedFloatText(value=0.01, description='Class 1:', disabled=True, max=10.0, min=0.01, step=0.01)"
      ]
     },
     "metadata": {},
     "output_type": "display_data"
    },
    {
     "data": {
      "application/vnd.jupyter.widget-view+json": {
       "model_id": "65c0221bb632422fbeb5935be44cbdbb",
       "version_major": 2,
       "version_minor": 0
      },
      "text/plain": [
       "BoundedFloatText(value=0.15, description='Class 2:', disabled=True, max=10.0, min=0.01, step=0.01)"
      ]
     },
     "metadata": {},
     "output_type": "display_data"
    },
    {
     "data": {
      "application/vnd.jupyter.widget-view+json": {
       "model_id": "8e260b5d16b54edc8718cf5ff51ce312",
       "version_major": 2,
       "version_minor": 0
      },
      "text/plain": [
       "BoundedFloatText(value=0.5, description='Class 3:', disabled=True, max=10.0, min=0.01, step=0.01)"
      ]
     },
     "metadata": {},
     "output_type": "display_data"
    },
    {
     "data": {
      "application/vnd.jupyter.widget-view+json": {
       "model_id": "5c0f82e141554e6390257ca822796399",
       "version_major": 2,
       "version_minor": 0
      },
      "text/plain": [
       "BoundedFloatText(value=1.0, description='Class 4:', disabled=True, max=10.0, min=0.01, step=0.01)"
      ]
     },
     "metadata": {},
     "output_type": "display_data"
    },
    {
     "data": {
      "application/vnd.jupyter.widget-view+json": {
       "model_id": "aeb60e9b3a95460992c9c00116e99431",
       "version_major": 2,
       "version_minor": 0
      },
      "text/plain": [
       "BoundedFloatText(value=1.5, description='Class 5:', disabled=True, max=10.0, min=0.01, step=0.01)"
      ]
     },
     "metadata": {},
     "output_type": "display_data"
    },
    {
     "data": {
      "application/vnd.jupyter.widget-view+json": {
       "model_id": "7de83a53e2374075aff27aba5d6aecd1",
       "version_major": 2,
       "version_minor": 0
      },
      "text/plain": [
       "BoundedFloatText(value=2.0, description='Class 6:', disabled=True, max=10.0, min=0.01, step=0.01)"
      ]
     },
     "metadata": {},
     "output_type": "display_data"
    },
    {
     "data": {
      "application/vnd.jupyter.widget-view+json": {
       "model_id": "905944d44d304247bf94674576294277",
       "version_major": 2,
       "version_minor": 0
      },
      "text/plain": [
       "HBox(children=(Button(description='Run Analysis', style=ButtonStyle(), tooltip='Click to run analysis with sel…"
      ]
     },
     "metadata": {},
     "output_type": "display_data"
    },
    {
     "data": {
      "application/vnd.jupyter.widget-view+json": {
       "model_id": "6fdb4823052640beb67b5cbaaf12ce9b",
       "version_major": 2,
       "version_minor": 0
      },
      "text/plain": [
       "Button(description='Preview Impact Function', style=ButtonStyle(), tooltip='Show preview of impact function')"
      ]
     },
     "metadata": {},
     "output_type": "display_data"
    },
    {
     "data": {
      "application/vnd.jupyter.widget-view+json": {
       "model_id": "a47b04c94ba94f20a8ec5e04e67127a8",
       "version_major": 2,
       "version_minor": 0
      },
      "text/plain": [
       "Button(description='Reset', style=ButtonStyle(), tooltip='Reset display')"
      ]
     },
     "metadata": {},
     "output_type": "display_data"
    },
    {
     "data": {
      "application/vnd.jupyter.widget-view+json": {
       "model_id": "e3352bef2429419c9ed7ca85e39139b8",
       "version_major": 2,
       "version_minor": 0
      },
      "text/plain": [
       "Output()"
      ]
     },
     "metadata": {},
     "output_type": "display_data"
    },
    {
     "data": {
      "image/png": "[encoded data removed]",
      "text/plain": [
       "<Figure size 432x288 with 1 Axes>"
      ]
     },
     "metadata": {
      "needs_background": "light"
     },
     "output_type": "display_data"
    },
    {
     "data": {
      "image/png": "[encoded data removed]",
      "text/plain": [
       "<Figure size 432x288 with 1 Axes>"
      ]
     },
     "metadata": {
      "needs_background": "light"
     },
     "output_type": "display_data"
    }
   ],
   "source": [
    "display(country_dd)\n",
    "display(exp_cat_dd)\n",
    "display(adm_dd)\n",
    "display(analysis_app_dd)\n",
    "display(min_haz_slider)\n",
    "[display(w) for w in class_edges.values()]\n",
    "\n",
    "display(HBox([run_button, preview_chk, save_inter_rst_chk]), \n",
    "        preview_impact_button, reset_display_button)\n",
    "\n",
    "output = widgets.Output()\n",
    "display(output)"
   ]
  },
  {
   "cell_type": "code",
   "execution_count": null,
   "id": "da14722d-4faf-4b9b-8a95-ef85037ccf2f",
   "metadata": {},
   "outputs": [],
   "source": []
  }
 ],
 "metadata": {
  "interpreter": {
   "hash": "b6d8b26c4f649b8a27f8996ac75dd87b5987470d4d00d1b2c02ba594e155f4b5"
  },
  "kernelspec": {
   "display_name": "Python 3 (ipykernel)",
   "language": "python",
   "name": "python3"
  },
  "language_info": {
   "codemirror_mode": {
    "name": "ipython",
    "version": 3
   },
   "file_extension": ".py",
   "mimetype": "text/x-python",
   "name": "python",
   "nbconvert_exporter": "python",
   "pygments_lexer": "ipython3",
   "version": "3.10.2"
  }
 },
 "nbformat": 4,
 "nbformat_minor": 5
}
