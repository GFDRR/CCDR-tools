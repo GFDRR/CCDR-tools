{
 "cells": [
  {
   "cell_type": "markdown",
   "id": "6ce9d524-db59-44c6-9122-c84a2e3594a1",
   "metadata": {},
   "source": [
    "# **RDL - CCDR analytics interface**\n",
    "\n",
    "## Bivariate Risk-Poverty Mapping Tool\n",
    "\n",
    "<p>This tool creates bivariate maps combining hazard risk analytics with relative wealth index data.</p>\n",
    "<p>Input data should be a GeoPackage file with administrative boundaries containing fields for: Unit ID, Unit NAME, Unit POP, RWI, and hazard score (e.g., FL EAI).</p>\n",
    "<p>The tool calculates population-weighted relative wealth index and combines it with hazard data into a bivariate choropleth map.</p>\n",
    "\n",
    "### Cell > Run all  or   CTRL + Enter"
   ]
  },
  {
   "cell_type": "code",
   "execution_count": 1,
   "id": "86fc5cc8-22d6-4dfd-816f-739ed9738273",
   "metadata": {},
   "outputs": [
    {
     "data": {
      "application/vnd.jupyter.widget-view+json": {
       "model_id": "c1b7e48c42d244dfbf2cb6145c310bd0",
       "version_major": 2,
       "version_minor": 0
      },
      "text/plain": [
       "VBox(children=(HTML(value='\\n    <div style=\\'\\n        background: linear-gradient(to bottom, #003366, transp…"
      ]
     },
     "metadata": {},
     "output_type": "display_data"
    },
    {
     "data": {
      "text/html": [
       "\n",
       "    <script>\n",
       "    document.querySelector('.file-path-text-2588360322464').onmouseover = function() {\n",
       "        document.querySelector('.info-box textarea').value = 'Enter the path to your GeoPackage file containing boundary data with wealth and hazard information.';\n",
       "    };\n",
       "    document.querySelector('.layer-selector-2588360326400').onmouseover = function() {\n",
       "        document.querySelector('.info-box textarea').value = 'Select the layer from the GeoPackage file to analyze. This is only applicable if your file contains multiple layers.';\n",
       "    };\n",
       "    document.querySelector('.id-field-selector-2588360322656').onmouseover = function() {\n",
       "        document.querySelector('.info-box textarea').value = 'Select the field that contains unique identifiers for each boundary feature.';\n",
       "    };\n",
       "    document.querySelector('.name-field-selector-2588360320976').onmouseover = function() {\n",
       "        document.querySelector('.info-box textarea').value = 'Select the field that contains the name or label for each boundary feature.';\n",
       "    };\n",
       "    document.querySelector('.population-field-selector-2588360323088').onmouseover = function() {\n",
       "        document.querySelector('.info-box textarea').value = 'Select the field that contains population data. This is used to calculate population-weighted wealth index.';\n",
       "    };\n",
       "    document.querySelector('.wealth-field-selector-2588360324816').onmouseover = function() {\n",
       "        document.querySelector('.info-box textarea').value = 'Select the field that contains relative wealth index (RWI) or other wealth indicator data.';\n",
       "    };\n",
       "    document.querySelector('.hazard-field-selector-2588360324624').onmouseover = function() {\n",
       "        document.querySelector('.info-box textarea').value = 'Select the field that contains hazard risk data (e.g., flood risk index, expected annual impact).';\n",
       "    };\n",
       "    document.querySelector('.quantiles-selector-2588360672016').onmouseover = function() {\n",
       "        document.querySelector('.info-box textarea').value = 'Select the number of quantiles to use for classifying both wealth and hazard data.\\n\\n3×3 creates a 9-cell bivariate map (tertiles)\\n4×4 creates a 16-cell bivariate map (quartiles)\\n5×5 creates a 25-cell bivariate map (quintiles)';\n",
       "    };\n",
       "    document.querySelector('.bivariate-palette-selector-2588360673264').onmouseover = function() {\n",
       "        document.querySelector('.info-box textarea').value = 'Select the bivariate color palette to use for the map. Each palette is designed to show both poverty and hazard risk with appropriate color relationships.';\n",
       "    };\n",
       "    </script>\n",
       "    "
      ],
      "text/plain": [
       "<IPython.core.display.HTML object>"
      ]
     },
     "metadata": {},
     "output_type": "display_data"
    }
   ],
   "source": [
    "%matplotlib inline\n",
    "from gui_bivariate_utils import initialize_tool\n",
    "initialize_tool()"
   ]
  },
  {
   "cell_type": "markdown",
   "id": "8f194706-429e-440a-a09d-26aaa17077be",
   "metadata": {},
   "source": [
    "### Methodology\n",
    "\n",
    "#### Population-Weighted Relative Wealth Index\n",
    "The Relative Wealth Index (RWI) is weighted by population to provide a more accurate representation of wealth distribution across administrative areas:\n",
    "\n",
    "1. Calculate the population-weighted RWI for each area: `RWI × Population density`\n",
    "2. Sum these values across all areas\n",
    "3. Divide each area's weighted value by the total sum\n",
    "4. Normalize the resulting values to create w_RWIxPOP\n",
    "\n",
    "#### Bivariate Mapping\n",
    "The bivariate map combines two variables (wealth and hazard risk) into a single visualization:\n",
    "\n",
    "1. Both variables are classified into the selected number of quantiles\n",
    "2. The two classifications are combined into a matrix where each cell represents a specific combination\n",
    "3. Colors are assigned based on the selected color palettes, creating a 3×3, 4×4 or 5x5 grid of colors\n",
    "\n",
    "This approach allows for visualizing the relationship between poverty and hazard risk in a single map, highlighting areas with different combinations of wealth and vulnerability."
   ]
  }
 ],
 "metadata": {
  "kernelspec": {
   "display_name": "Python 3 (ipykernel)",
   "language": "python",
   "name": "python3"
  },
  "language_info": {
   "codemirror_mode": {
    "name": "ipython",
    "version": 3
   },
   "file_extension": ".py",
   "mimetype": "text/x-python",
   "name": "python",
   "nbconvert_exporter": "python",
   "pygments_lexer": "ipython3",
   "version": "3.10.14"
  }
 },
 "nbformat": 4,
 "nbformat_minor": 5
}
