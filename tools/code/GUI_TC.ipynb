{
 "cells": [
  {
   "cell_type": "markdown",
   "id": "6ce9d524-db59-44c6-9122-c84a2e3594a1",
   "metadata": {},
   "source": [
    "# **RDL - CCDR analytics interface**\n",
    "\n",
    "## Tropycal cyclone exposure and risk analytics: strong wind impact\n",
    "\n",
    "<p>Based on <a href=\"https://data.4tu.nl/datasets/0ea98bdd-5772-4da8-ae97-99735e891aff/4\"><b>STORM v4 (2023) hazard data</b></a> [max wind spead (m/s) by Return Period scenario].</p>\n",
    "<p>Download the globally-aggregated tiff data from <a href=\"https://worldbankgroup-my.sharepoint.com/:u:/g/personal/mamadio_worldbank_org1/EWCf-vBLDoNDvasKfwtbFsIBMQV_2kEiADxcyz0vPDv4PQ?e=R484XQ\"><b>here</b></a> (WB login required) and put them in the folder: <i><b>data/HZD/GLB/STORM/</b></i></p>\n",
    "\n",
    "<p>1. Exposure by hazard thresholds on population, built-up and agricultural area<br>2. Expected Annual Impact estimates on built-up area using regional-specific damage curves from <a href=\"https://nhess.copernicus.org/articles/21/393/2021/\"><b>CLIMADA</b></a>.</p>\n",
    "\n",
    "### Cell > Run all  or   CTRL + Enter"
   ]
  },
  {
   "cell_type": "code",
   "execution_count": 1,
   "id": "86fc5cc8-22d6-4dfd-816f-739ed9738273",
   "metadata": {},
   "outputs": [
    {
     "data": {
      "application/vnd.jupyter.widget-view+json": {
       "model_id": "26070a51dca44c7d9ddc93b296189057",
       "version_major": 2,
       "version_minor": 0
      },
      "text/plain": [
       "VBox(children=(HTML(value='\\n    <div style=\\'\\n        background: linear-gradient(to bottom, #003366, transp…"
      ]
     },
     "metadata": {},
     "output_type": "display_data"
    },
    {
     "data": {
      "text/html": [
       "\n",
       "    <script>\n",
       "    document.querySelector('.country-selector-1779790434448').onmouseover = function() {\n",
       "        document.querySelector('.info-box textarea').value = 'Enter the country name.';\n",
       "    };\n",
       "    document.querySelector('.adm-level-selector-1779770516208').onmouseover = function() {\n",
       "        document.querySelector('.info-box textarea').value = 'Select the boundaries associated with administrative level.';\n",
       "    };\n",
       "    document.querySelector('.custom-boundaries-radio-1779770516352').onmouseover = function() {\n",
       "        document.querySelector('.info-box textarea').value = 'Choose between default administrative boundaries or custom boundaries provided by the user.';\n",
       "    };\n",
       "    document.querySelector('.custom-boundaries-file-1779770519040').onmouseover = function() {\n",
       "        document.querySelector('.info-box textarea').value = 'Enter the path to your custom boundaries file (Shapefile or GeoPackage).';\n",
       "    };\n",
       "    document.querySelector('.custom-boundaries-id-field-1779770515776').onmouseover = function() {\n",
       "        document.querySelector('.info-box textarea').value = 'Enter the field name in your custom boundaries file that contains the unique identifier for each zone.';\n",
       "    };\n",
       "    document.querySelector('.custom-boundaries-name-field-1779770514096').onmouseover = function() {\n",
       "        document.querySelector('.info-box textarea').value = 'Enter the field name in your custom boundaries file that contains the name or label for each zone.';\n",
       "    };\n",
       "    document.querySelector('.hazard-selector-1779790836304').onmouseover = function() {\n",
       "        document.querySelector('.info-box textarea').value = 'Select the type of hazard process.';\n",
       "    };\n",
       "    document.querySelector('.hazard-threshold-slider-1779790837552').onmouseover = function() {\n",
       "        document.querySelector('.info-box textarea').value = 'Set the minimum hazard threshold, in the unit of the hazard dataset.\\nValues below this threshold will be ignored.';\n",
       "    };\n",
       "    document.querySelector('.period-selector-1779790837888').onmouseover = function() {\n",
       "        document.querySelector('.info-box textarea').value = 'Select the reference time period for the hazard analysis:\\n\\n- Historical baseline: 2020\\n- Future periods: 2030, 2050, 2080';\n",
       "    };\n",
       "    document.querySelector('.scenario-selector-1779790836832').onmouseover = function() {\n",
       "        document.querySelector('.info-box textarea').value = 'Choose the climate scenario for future projections.';\n",
       "    };\n",
       "    document.querySelector('.return_periods-selector-1779790834768').onmouseover = function() {\n",
       "        document.querySelector('.info-box textarea').value = 'Choose the return periods to consider.\\nCtrl + click or drag mouse for multiple choices.\\n\\nReturn period defines the intensity of the hazard in relation to its occurrence probability.\\nWhen using the function approach, the whole range selection is preferred for best results.';\n",
       "    };\n",
       "    document.querySelector('.exposure-selector-1779770516736').onmouseover = function() {\n",
       "        document.querySelector('.info-box textarea').value = 'Select the exposure category on which the risk is calculated.\\nCtrl + click or drag mouse for multiple choices.';\n",
       "    };\n",
       "    document.querySelector('.custom-exposure-radio-1779790443184').onmouseover = function() {\n",
       "        document.querySelector('.info-box textarea').value = 'Choose between default exposure data or custom exposure data provided by the user.\\n\\nDefault data sources are:\\n- Population: WorldPop 2020 (100 m)\\n- Built-up: World Settlement Footprint 2019 (100 m)\\n- Agricolture: ESA World Cover 2019 - Crop area (1 km)';\n",
       "    };\n",
       "    document.querySelector('.custom-exposure-textbox-1779790839712').onmouseover = function() {\n",
       "        document.querySelector('.info-box textarea').value = 'Enter the filename (without extension) of your custom exposure data.\\n- Must be a valid .tif file using CRS:4326\\n- Must be located in the EXP folder. ';\n",
       "    };\n",
       "    document.querySelector('.approach-selector-1779770518608').onmouseover = function() {\n",
       "        document.querySelector('.info-box textarea').value = 'Select the approach for risk classification: Classes or Function.\\n\\n- Function approach is based on default impact functions for each exposure category.\\n- Classes approach measures the average annual exposure to user-defined hazard thresholds. Thresholds must be inserted in incremental order.';\n",
       "    };\n",
       "    document.querySelector('.adm-level-selector-1779770516208').onmouseover = function() {\n",
       "        document.querySelector('.info-box textarea').value = 'Select the administrative level to aggregate and present the results of the analysis.';\n",
       "    };\n",
       "    </script>"
      ],
      "text/plain": [
       "<IPython.core.display.HTML object>"
      ]
     },
     "metadata": {},
     "output_type": "display_data"
    }
   ],
   "source": [
    "%matplotlib inline\n",
    "from gui_tc_utils import initialize_tool\n",
    "initialize_tool()"
   ]
  },
  {
   "cell_type": "code",
   "execution_count": null,
   "id": "adb21d3f-1492-4ecb-b3a1-c21891556c1a",
   "metadata": {},
   "outputs": [],
   "source": []
  }
 ],
 "metadata": {
  "kernelspec": {
   "display_name": "Python 3 (ipykernel)",
   "language": "python",
   "name": "python3"
  },
  "language_info": {
   "codemirror_mode": {
    "name": "ipython",
    "version": 3
   },
   "file_extension": ".py",
   "mimetype": "text/x-python",
   "name": "python",
   "nbconvert_exporter": "python",
   "pygments_lexer": "ipython3",
   "version": "3.10.14"
  }
 },
 "nbformat": 4,
 "nbformat_minor": 5
}
