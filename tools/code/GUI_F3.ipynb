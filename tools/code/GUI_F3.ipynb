{
 "cells": [
  {
   "cell_type": "markdown",
   "id": "6ce9d524-db59-44c6-9122-c84a2e3594a1",
   "metadata": {},
   "source": [
    "# **RDL - CCDR analytics interface**\n",
    "\n",
    "## Flood exposure and risk analytics: river, pluvial and coastal.\n",
    "\n",
    "<p>Based on Fathom v3 (2023) hazard data, produces exposure by hazard thresholds or impact estimates on population, built-up and agricultural area using regional-specific damage curves from <a href=\"https://jkan.riskdatalibrary.org/datasets/global-flood-depth-damage-functions\">Huizinga et al. 2017</a>.</p><p>The tool expects Fathom v3 data as country-wide RP layers in the HZD folder. To merge downloaded tiles, use the <a href=\"F3/F3_preprocessing.ipynb\"><b>Fathom 3 pre-processing tool</b></a>.</p>\n",
    "\n",
    "### Cell > Run all  or   CTRL + Enter"
   ]
  },
  {
   "cell_type": "code",
   "execution_count": 1,
   "id": "86fc5cc8-22d6-4dfd-816f-739ed9738273",
   "metadata": {},
   "outputs": [
    {
     "data": {
      "application/vnd.jupyter.widget-view+json": {
       "model_id": "c89f51de8f50475c88b8fb5c6e3f6ad3",
       "version_major": 2,
       "version_minor": 0
      },
      "text/plain": [
       "VBox(children=(HTML(value='\\n<div style=\\'\\n    background: linear-gradient(to bottom, #003366, transparent);\\…"
      ]
     },
     "metadata": {},
     "output_type": "display_data"
    },
    {
     "data": {
      "text/html": [
       "\n",
       "<script>\n",
       "document.querySelector('.country-selector-1919540241952').onmouseover = function() {\n",
       "    document.querySelector('.info-box textarea').value = 'Enter the country name.';\n",
       "};\n",
       "document.querySelector('.adm-level-selector-1919542238016').onmouseover = function() {\n",
       "    document.querySelector('.info-box textarea').value = 'Select the boundaries associated with administrative level.';\n",
       "};\n",
       "document.querySelector('.custom-boundaries-radio-1919542238208').onmouseover = function() {\n",
       "    document.querySelector('.info-box textarea').value = 'Choose between default administrative boundaries or custom boundaries provided by the user.';\n",
       "};\n",
       "document.querySelector('.custom-boundaries-file-1919542240464').onmouseover = function() {\n",
       "    document.querySelector('.info-box textarea').value = 'Enter the path to your custom boundaries file (Shapefile or GeoPackage).';\n",
       "};\n",
       "document.querySelector('.custom-boundaries-id-field-1919542241856').onmouseover = function() {\n",
       "    document.querySelector('.info-box textarea').value = 'Enter the field name in your custom boundaries file that contains the unique identifier for each zone.';\n",
       "};\n",
       "document.querySelector('.custom-boundaries-name-field-1919542243248').onmouseover = function() {\n",
       "    document.querySelector('.info-box textarea').value = 'Enter the field name in your custom boundaries file that contains the name or label for each zone.';\n",
       "};\n",
       "document.querySelector('.hazard-selector-1919542245792').onmouseover = function() {\n",
       "    document.querySelector('.info-box textarea').value = 'Select the type of flood hazard.\\nThe DEFENDED option accounts for protection standards set proportional to country GDP; it does not account for geolocated physical defence measures.';\n",
       "};\n",
       "document.querySelector('.hazard-threshold-slider-1919542246896').onmouseover = function() {\n",
       "    document.querySelector('.info-box textarea').value = 'Set the minimum hazard threshold, in the unit of the dataset.\\nValues below this threshold will be ignored.';\n",
       "};\n",
       "document.querySelector('.period-selector-1919542641376').onmouseover = function() {\n",
       "    document.querySelector('.info-box textarea').value = 'Select the reference time period for the hazard analysis:\\n\\n- Historical baseline: 2020\\n- Future periods: 2030, 2050, 2080';\n",
       "};\n",
       "document.querySelector('.scenario-selector-1919542642528').onmouseover = function() {\n",
       "    document.querySelector('.info-box textarea').value = 'Choose the climate scenario for future projections.';\n",
       "};\n",
       "document.querySelector('.return_periods-selector-1919542644016').onmouseover = function() {\n",
       "    document.querySelector('.info-box textarea').value = 'Choose the return periods to consider.\\nCtrl + click or drag mouse for multiple choices.\\n\\nReturn period defines the intensity of the hazard in relation to its occurrence probability.\\nWhen using the function approach, the whole range selection is preferred for best results.';\n",
       "};\n",
       "document.querySelector('.exposure-selector-1919542236816').onmouseover = function() {\n",
       "    document.querySelector('.info-box textarea').value = 'Select the exposure category on which the risk is calculated.\\nCtrl + click or drag mouse for multiple choices.';\n",
       "};\n",
       "document.querySelector('.custom-exposure-radio-1919542247136').onmouseover = function() {\n",
       "    document.querySelector('.info-box textarea').value = 'Choose between default exposure data or custom exposure data provided by the user.\\n\\nDefault data sources are:\\n- Population: WorldPop 2020 (100 m)\\n- Built-up: World Settlement Footprint 2019 (100 m)\\n- Agricolture: ESA World Cover 2019 - Crop area (1 km)';\n",
       "};\n",
       "document.querySelector('.custom-exposure-textbox-1919542243392').onmouseover = function() {\n",
       "    document.querySelector('.info-box textarea').value = 'Enter the filename (without extension) of your custom exposure data.\\n- Must be a valid .tif file using CRS:4326\\n- Must be located in the EXP folder. ';\n",
       "};\n",
       "document.querySelector('.approach-selector-1919542241424').onmouseover = function() {\n",
       "    document.querySelector('.info-box textarea').value = 'Select the approach for risk classification: Classes or Function.\\n\\n- Function approach is based on default impact functions for each exposure category.\\n- Classes approach measures the average annual exposure to user-defined hazard thresholds. Thresholds must be inserted in incremental order.';\n",
       "};\n",
       "document.querySelector('.adm-level-selector-1919542238016').onmouseover = function() {\n",
       "    document.querySelector('.info-box textarea').value = 'Select the administrative level to aggregate and present the results of the analysis.';\n",
       "};\n",
       "</script>\n"
      ],
      "text/plain": [
       "<IPython.core.display.HTML object>"
      ]
     },
     "metadata": {},
     "output_type": "display_data"
    }
   ],
   "source": [
    "%matplotlib inline\n",
    "from gui_f3_utils import initialize_tool\n",
    "initialize_tool()"
   ]
  }
 ],
 "metadata": {
  "kernelspec": {
   "display_name": "Python 3 (ipykernel)",
   "language": "python",
   "name": "python3"
  },
  "language_info": {
   "codemirror_mode": {
    "name": "ipython",
    "version": 3
   },
   "file_extension": ".py",
   "mimetype": "text/x-python",
   "name": "python",
   "nbconvert_exporter": "python",
   "pygments_lexer": "ipython3",
   "version": "3.10.15"
  }
 },
 "nbformat": 4,
 "nbformat_minor": 5
}
