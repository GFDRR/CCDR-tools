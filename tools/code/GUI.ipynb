{
 "cells": [
  {
   "cell_type": "markdown",
   "id": "882b76f9",
   "metadata": {},
   "source": [
    "<h1 style=\"text-align: center\"><b>RISK DATA LIBRARY - Analytical tools</b></h1>\n",
    "<h2 style=\"text-align: center\">A collection of python scripts to produce sub-national risk screening analysis</h2>\n",
    "<h3 style=\"text-align: center\">Select a hazard:</h3>\n",
    "\n",
    "<table>\n",
    "    <tr>\n",
    "      <td width=\"10%\">\n",
    "        <img src=\"icons/flood.png\" width=\"80\" height=\"80\" alt=\"Flood icon\">\n",
    "      </td>\n",
    "      <td>\n",
    "        <h2 style=\"text-align: center;\">\n",
    "          <a href=\"GUI_F3.ipynb\" style=\"text-decoration: none;\">\n",
    "            <b>FLOODS</b> (Fluvial, Pluvial, Coastal)\n",
    "          </a>\n",
    "        </h2>\n",
    "        <p>\n",
    "          Based on Fathom v3 hazard data, produces exposure by hazard thresholds or impact estimates on population, built-up, and agricultural areas.\n",
    "        </p>\n",
    "        <p>\n",
    "          The tool expects Fathom 3 data as country-wide RP layers. To merge downloaded tiles, use the \n",
    "          <a href=\"F3/F3_preprocessing.ipynb\" style=\"text-decoration: none;\">\n",
    "            <b>Fathom 3 pre-processing tool</b>.\n",
    "          </a>\n",
    "        </p>\n",
    "      </td>\n",
    "    </tr>\n",
    "    <tr>\n",
    "      <td width=\"10%\">\n",
    "        <img src=\"icons/wind.png\" width=\"80\" height=\"80\" alt=\"Wind icon\">\n",
    "      </td>\n",
    "      <td>\n",
    "        <h2 style=\"text-align: center\">\n",
    "          <a href=\"GUI_TC.ipynb\" style=\"text-decoration: none;\">\n",
    "            <b>TROPICAL CYCLONES</b> (Strong wind)\n",
    "          </a>\n",
    "        </h2>\n",
    "        <p>\n",
    "          Based on STORM v34 hazard data, produces exposure by hazard thresholds or impact estimates on built-up based on regional damage curves (CLIMADA).\n",
    "        </p>\n",
    "      </td>\n",
    "    </tr>\n",
    "    <tr>\n",
    "      <td width=\"10%\">\n",
    "        <img src=\"icons/heat-stress.png\" width=\"80\" height=\"80\" alt=\"Heat stress icon\">\n",
    "      </td>\n",
    "      <td>\n",
    "        <h2 style=\"text-align: center;\">\n",
    "          <a href=\"#\" style=\"text-decoration: none; cursor: default;\">\n",
    "            <b><span style=\"font-style: italic\">[Coming Soon]</span> HEAT STRESS</b>\n",
    "          </a>\n",
    "        </h2>\n",
    "        <p>\n",
    "          Based on VITO WBGT hazard data, produces exposure by hazard thresholds on population.\n",
    "        </p>\n",
    "      </td>\n",
    "    </tr>\n",
    "</table>\n",
    "\n",
    "<p style=\"text-align: right; margin-top: 3em;\"><em>Developed by M. Amadio (mamadio@worldbank.org)</em></p>"
   ]
  },
  {
   "cell_type": "code",
   "execution_count": null,
   "id": "19209641-ac8d-40ce-ad8d-c4f52a76e469",
   "metadata": {},
   "outputs": [],
   "source": []
  }
 ],
 "metadata": {
  "kernelspec": {
   "display_name": "Python 3 (ipykernel)",
   "language": "python",
   "name": "python3"
  },
  "language_info": {
   "codemirror_mode": {
    "name": "ipython",
    "version": 3
   },
   "file_extension": ".py",
   "mimetype": "text/x-python",
   "name": "python",
   "nbconvert_exporter": "python",
   "pygments_lexer": "ipython3",
   "version": "3.10.14"
  }
 },
 "nbformat": 4,
 "nbformat_minor": 5
}
