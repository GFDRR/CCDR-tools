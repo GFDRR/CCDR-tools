{
 "cells": [
  {
   "cell_type": "markdown",
   "id": "882b76f9",
   "metadata": {},
   "source": [
    "<h1 style=\"text-align: center\">RISK DATA LIBRARY - Analytical tools</h1>\n",
    "<h2 style=\"text-align: center\">A collection of python scripts to produce sub-national risk screening analysis</h2>\n",
    "<h3 style=\"text-align: center\">Select a hazard:</h3>\n",
    "\n",
    "<table>\n",
    "  <tr>\n",
    "    <td width=\"10%\"><img src=\"icons/flood.png\" width=\"80\" height=\"80\" alt=\"Flood icon\"></td>\n",
    "    <td>\n",
    "      <h2 style=\"text-align: center\"><a href=\"GUI_F3.ipynb\" style=\"text-decoration:none\"><b>FLOODS</b> (Fluvial, Pluvial, Coastal)</a></h2>\n",
    "      <p>Based on Fathom v3 hazard data, produces exposure by hazard thresholds or impact estimates on population, built-up and agricultural area.</p><p>The tool expects Fathom 3 data as country-wide RP layers. To merge downloaded tiles, use the <a href=\"F3/F3_preprocessing.ipynb\"><b>Fathom 3 pre-processing tool</b></a></p>.\n",
    "    </td>\n",
    "  </tr>\n",
    "  <tr>\n",
    "    <td width=\"10%\"><img src=\"icons/wind.png\" width=\"80\" height=\"80\" alt=\"Wind icon\"></td>\n",
    "    <td>\n",
    "      <h2 style=\"text-align: center\"><a href=\"GUI_TC.ipynb\" style=\"text-decoration:none\"><b>TROPICAL CYCLONES</b> (Strong wind)</a></h2>\n",
    "      <p>Based on STORM v3 hazard data, produces exposure by hazard thresholds or impact estimates on built-up.</p>\n",
    "    </td>\n",
    "  </tr>\n",
    "  <tr>\n",
    "    <td width=\"10%\"><img src=\"icons/heat-stress.png\" width=\"80\" height=\"80\" alt=\"Heat stress icon\"></td>\n",
    "    <td>\n",
    "      <h2 style=\"text-align: center\"><a href=\"GUI_HS.ipynb\" style=\"text-decoration:none\"><b>HEAT STRESS</b></a></h2>\n",
    "      <p>Based on VITO WBGT hazard data, produces exposure by hazard thresholds on population.</p>\n",
    "    </td>\n",
    "  </tr>\n",
    "</table>\n",
    "\n",
    "<p style=\"text-align: right; margin-top: 3em;\"><em>Developed by M. Amadio (mamadio@worldbank.org)</em></p>"
   ]
  },
  {
   "cell_type": "code",
   "execution_count": null,
   "id": "f85a06b2",
   "metadata": {},
   "outputs": [],
   "source": []
  }
 ],
 "metadata": {
  "kernelspec": {
   "display_name": "Python 3 (ipykernel)",
   "language": "python",
   "name": "python3"
  },
  "language_info": {
   "codemirror_mode": {
    "name": "ipython",
    "version": 3
   },
   "file_extension": ".py",
   "mimetype": "text/x-python",
   "name": "python",
   "nbconvert_exporter": "python",
   "pygments_lexer": "ipython3",
   "version": "3.10.2"
  }
 },
 "nbformat": 4,
 "nbformat_minor": 5
}
