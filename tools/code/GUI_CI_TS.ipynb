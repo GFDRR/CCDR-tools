{
 "cells": [
  {
   "cell_type": "markdown",
   "id": "6ce9d524-db59-44c6-9122-c84a2e3594a1",
   "metadata": {},
   "source": [
    "# **Climate Indices - Historical Timeseries Visualization Tool**\n",
    "\n",
    "## Visualize historical climate data for specific years\n",
    "\n",
    "<p>Based on ERA5 historical data (1950-2023), this tool allows you to visualize various climate indices for countries worldwide for specific years.</p>\n",
    "<p>Select a country, administrative level, climate index, and a specific year to visualize both raw grid data and zonal statistics.</p>\n",
    "<p>Choose from a selection of climate indices to analyze temperature extremes, precipitation patterns, heat stress indicators, and drought metrics.</p>\n",
    "<p>Subnational boundaries are fetched from the WB server up to level 2. Custom boundaries at any level can also be used.</p>\n",
    "<p>Results can be exported as pictures and geodata.</p>\n",
    "\n",
    "### Run this cell to launch the interface: Cell > Run or CTRL + Enter"
   ]
  },
  {
   "cell_type": "code",
   "execution_count": 1,
   "id": "86fc5cc8-22d6-4dfd-816f-739ed9738273",
   "metadata": {},
   "outputs": [
    {
     "data": {
      "application/vnd.jupyter.widget-view+json": {
       "model_id": "6b05edfd433444328c42237babf9ff4d",
       "version_major": 2,
       "version_minor": 0
      },
      "text/plain": [
       "HBox(children=(VBox(children=(VBox(children=(VBox(children=(Textarea(value='Hover over items for descriptions.…"
      ]
     },
     "metadata": {},
     "output_type": "display_data"
    },
    {
     "data": {
      "text/html": [
       "\n",
       "    <script>\n",
       "    document.querySelector('.country-selector-2857410631168').onmouseover = function() {\n",
       "        document.querySelector('.info-box textarea').value = 'Enter a country name. You can type to filter the list.';\n",
       "    };\n",
       "    document.querySelector('.adm-level-selector-2857410633040').onmouseover = function() {\n",
       "        document.querySelector('.info-box textarea').value = 'Select the administrative level for analysis boundaries.\\n0 = Country\\n1 = State/Province\\n2 = District/County';\n",
       "    };\n",
       "    document.querySelector('.custom-boundaries-radio-2857410638224').onmouseover = function() {\n",
       "        document.querySelector('.info-box textarea').value = 'Choose between default administrative boundaries or custom boundaries provided by the user.';\n",
       "    };\n",
       "    document.querySelector('.custom-boundaries-file-2857410639520').onmouseover = function() {\n",
       "        document.querySelector('.info-box textarea').value = 'Enter the path to your custom boundaries file (Shapefile or GeoPackage).';\n",
       "    };\n",
       "    document.querySelector('.custom-boundaries-id-field-2857410640912').onmouseover = function() {\n",
       "        document.querySelector('.info-box textarea').value = 'Enter the field name in your custom boundaries file that contains the unique identifier for each zone.';\n",
       "    };\n",
       "    document.querySelector('.custom-boundaries-name-field-2857402553856').onmouseover = function() {\n",
       "        document.querySelector('.info-box textarea').value = 'Enter the field name in your custom boundaries file that contains the name or label for each zone.';\n",
       "    };\n",
       "    document.querySelector('.climate-index-selector-2857410634768').onmouseover = function() {\n",
       "        document.querySelector('.info-box textarea').value = 'Select the climate index to analyze. Different indices measure various aspects of climate like temperature, precipitation, or heat stress.';\n",
       "    };\n",
       "    document.querySelector('.year-selector-2857410635872').onmouseover = function() {\n",
       "        document.querySelector('.info-box textarea').value = 'Select the years to analyze from the historical time series (1950-2023). Hold Ctrl/Cmd key to select multiple years or drag to select a range.';\n",
       "    };\n",
       "    </script>\n",
       "    "
      ],
      "text/plain": [
       "<IPython.core.display.HTML object>"
      ]
     },
     "metadata": {},
     "output_type": "display_data"
    }
   ],
   "source": [
    "%matplotlib inline\n",
    "from gui_ci_timeseries_utils import initialize_tool\n",
    "initialize_tool()"
   ]
  },
  {
   "cell_type": "markdown",
   "id": "8f194706-429e-440a-a09d-26aaa17077be",
   "metadata": {},
   "source": [
    "### Reference Guide\n",
    "\n",
    "#### Climate Indices Overview\n",
    "\n",
    "| Type | Index | Description | Unit |\n",
    "|------|-------|-------------|------|\n",
    "| **Temperature** | tas, tasmax, tasmin | Mean, max and min temperature | °C |\n",
    "| **Heat Stress** | hd30, hd35, hi35, hi39 | Days with Tmax > 30°C, 35°C or Heat Index > 35°C, 39°C | days |\n",
    "| **Heat Risk** | tx84rr | Heat risk categorization and excess mortality indices | index |\n",
    "| **Precipitation** | rx1day, rx5day | Maximum 1-day and 5-day rainfall | mm |\n",
    "| **Rain Intensity** | r20mm, r50mm | Days with precipitation > 20mm or 50mm | days |\n",
    "| **Wet/Dry Periods** | cwd, cdd | Consecutive wet/dry days | days |\n",
    "| **Drought** | spei12 | Standardized Precipitation-Evapotranspiration Index | index |\n",
    "\n",
    "#### Exporting Data\n",
    "\n",
    "Use the export options to save:\n",
    "- Visualizations as PNG files\n",
    "- Boundary-level statistics as GeoPackage files\n",
    "\n",
    "#### Data Source\n",
    "\n",
    "This tool uses ERA5 reanalysis data, which provides a consistent global dataset of climate variables from 1950 to present."
   ]
  },
  {
   "cell_type": "code",
   "execution_count": null,
   "id": "cadd70b2-48d3-4fd7-9667-af4059178b82",
   "metadata": {},
   "outputs": [],
   "source": []
  }
 ],
 "metadata": {
  "kernelspec": {
   "display_name": "Python 3 (ipykernel)",
   "language": "python",
   "name": "python3"
  },
  "language_info": {
   "codemirror_mode": {
    "name": "ipython",
    "version": 3
   },
   "file_extension": ".py",
   "mimetype": "text/x-python",
   "name": "python",
   "nbconvert_exporter": "python",
   "pygments_lexer": "ipython3",
   "version": "3.10.14"
  }
 },
 "nbformat": 4,
 "nbformat_minor": 5
}
