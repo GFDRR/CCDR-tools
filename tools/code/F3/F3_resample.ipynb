{
 "cells": [
  {
   "cell_type": "markdown",
   "metadata": {},
   "source": [
    "# TIFF Resampling Tool with Parallel Processing\n",
    "\n",
    "This notebook resamples TIFF files from 0.000277777777777778157 (≈30m) to 0.000833333 (≈90m) resolution using parallel processing for better performance.\n",
    "\n",
    "Features:\n",
    "- Parallel processing for faster execution\n",
    "- Preserves the original data format\n",
    "- Maintains original CRS\n",
    "- Names output files with the original name plus \"_90m\" suffix"
   ]
  },
  {
   "cell_type": "code",
   "execution_count": 11,
   "metadata": {},
   "outputs": [],
   "source": [
    "# Import necessary libraries\n",
    "import os\n",
    "import time\n",
    "import multiprocessing\n",
    "import pandas as pd\n",
    "from IPython.display import display\n",
    "\n",
    "# Import our custom resampling module\n",
    "import tiff_resampler"
   ]
  },
  {
   "cell_type": "markdown",
   "metadata": {},
   "source": [
    "## Set Parameters"
   ]
  },
  {
   "cell_type": "code",
   "execution_count": 12,
   "metadata": {},
   "outputs": [
    {
     "name": "stdout",
     "output_type": "stream",
     "text": [
      "Created output folder: ../../data/HZD/TUN/FLUVIAL_UNDEFENDED/2020\\resampled\n",
      "Using 23 worker processes for parallel execution\n"
     ]
    }
   ],
   "source": [
    "# Set folder path to search for TIFF files\n",
    "# Replace this with your actual folder path\n",
    "folder_path = '../../data/HZD/TUN/FLUVIAL_UNDEFENDED/2020'\n",
    "\n",
    "# Define target resolution\n",
    "target_resolution = 0.000833333\n",
    "\n",
    "# Output suffix\n",
    "output_suffix = \"_90m\"\n",
    "\n",
    "# Create output folder if it doesn't exist\n",
    "output_folder = os.path.join(folder_path, 'resampled')\n",
    "if not os.path.exists(output_folder):\n",
    "    os.makedirs(output_folder)\n",
    "    print(f\"Created output folder: {output_folder}\")\n",
    "else:\n",
    "    print(f\"Output folder already exists: {output_folder}\")\n",
    "\n",
    "# Set number of parallel processes (None = use all available cores)\n",
    "# You can adjust this based on your system capabilities\n",
    "num_workers = multiprocessing.cpu_count() - 1  # Leave one core free\n",
    "print(f\"Using {num_workers} worker processes for parallel execution\")"
   ]
  },
  {
   "cell_type": "markdown",
   "metadata": {},
   "source": [
    "## Find TIFF Files"
   ]
  },
  {
   "cell_type": "code",
   "execution_count": 13,
   "metadata": {},
   "outputs": [
    {
     "name": "stdout",
     "output_type": "stream",
     "text": [
      "Found 8 TIFF files:\n",
      "  - 1in10.tif\n",
      "  - 1in100.tif\n",
      "  - 1in1000.tif\n",
      "  - 1in20.tif\n",
      "  - 1in200.tif\n",
      "  - 1in5.tif\n",
      "  - 1in50.tif\n",
      "  - 1in500.tif\n"
     ]
    }
   ],
   "source": [
    "# Find all TIFF files in the folder\n",
    "tiff_files = tiff_resampler.find_tiff_files(folder_path)\n",
    "\n",
    "print(f\"Found {len(tiff_files)} TIFF files:\")\n",
    "for file in tiff_files:\n",
    "    print(f\"  - {os.path.basename(file)}\")"
   ]
  },
  {
   "cell_type": "markdown",
   "metadata": {},
   "source": [
    "## Check Resolutions of Found Files"
   ]
  },
  {
   "cell_type": "code",
   "execution_count": 14,
   "metadata": {},
   "outputs": [
    {
     "name": "stdout",
     "output_type": "stream",
     "text": [
      "1in10.tif: (0.00027777777777777816, 0.00027777777777778)\n",
      "1in100.tif: (0.00027777777777777816, 0.00027777777777778)\n",
      "1in1000.tif: (0.00027777777777777816, 0.00027777777777778)\n",
      "1in20.tif: (0.00027777777777777816, 0.00027777777777778)\n",
      "1in200.tif: (0.00027777777777777816, 0.00027777777777778)\n",
      "1in5.tif: (0.00027777777777777816, 0.00027777777777778)\n",
      "1in50.tif: (0.00027777777777777816, 0.00027777777777778)\n",
      "1in500.tif: (0.00027777777777777816, 0.00027777777777778)\n"
     ]
    },
    {
     "data": {
      "text/html": [
       "<div>\n",
       "<style scoped>\n",
       "    .dataframe tbody tr th:only-of-type {\n",
       "        vertical-align: middle;\n",
       "    }\n",
       "\n",
       "    .dataframe tbody tr th {\n",
       "        vertical-align: top;\n",
       "    }\n",
       "\n",
       "    .dataframe thead th {\n",
       "        text-align: right;\n",
       "    }\n",
       "</style>\n",
       "<table border=\"1\" class=\"dataframe\">\n",
       "  <thead>\n",
       "    <tr style=\"text-align: right;\">\n",
       "      <th></th>\n",
       "      <th>file</th>\n",
       "      <th>x_resolution</th>\n",
       "      <th>y_resolution</th>\n",
       "    </tr>\n",
       "  </thead>\n",
       "  <tbody>\n",
       "    <tr>\n",
       "      <th>0</th>\n",
       "      <td>1in10.tif</td>\n",
       "      <td>0.000278</td>\n",
       "      <td>0.000278</td>\n",
       "    </tr>\n",
       "    <tr>\n",
       "      <th>1</th>\n",
       "      <td>1in100.tif</td>\n",
       "      <td>0.000278</td>\n",
       "      <td>0.000278</td>\n",
       "    </tr>\n",
       "    <tr>\n",
       "      <th>2</th>\n",
       "      <td>1in1000.tif</td>\n",
       "      <td>0.000278</td>\n",
       "      <td>0.000278</td>\n",
       "    </tr>\n",
       "    <tr>\n",
       "      <th>3</th>\n",
       "      <td>1in20.tif</td>\n",
       "      <td>0.000278</td>\n",
       "      <td>0.000278</td>\n",
       "    </tr>\n",
       "    <tr>\n",
       "      <th>4</th>\n",
       "      <td>1in200.tif</td>\n",
       "      <td>0.000278</td>\n",
       "      <td>0.000278</td>\n",
       "    </tr>\n",
       "    <tr>\n",
       "      <th>5</th>\n",
       "      <td>1in5.tif</td>\n",
       "      <td>0.000278</td>\n",
       "      <td>0.000278</td>\n",
       "    </tr>\n",
       "    <tr>\n",
       "      <th>6</th>\n",
       "      <td>1in50.tif</td>\n",
       "      <td>0.000278</td>\n",
       "      <td>0.000278</td>\n",
       "    </tr>\n",
       "    <tr>\n",
       "      <th>7</th>\n",
       "      <td>1in500.tif</td>\n",
       "      <td>0.000278</td>\n",
       "      <td>0.000278</td>\n",
       "    </tr>\n",
       "  </tbody>\n",
       "</table>\n",
       "</div>"
      ],
      "text/plain": [
       "          file  x_resolution  y_resolution\n",
       "0    1in10.tif      0.000278      0.000278\n",
       "1   1in100.tif      0.000278      0.000278\n",
       "2  1in1000.tif      0.000278      0.000278\n",
       "3    1in20.tif      0.000278      0.000278\n",
       "4   1in200.tif      0.000278      0.000278\n",
       "5     1in5.tif      0.000278      0.000278\n",
       "6    1in50.tif      0.000278      0.000278\n",
       "7   1in500.tif      0.000278      0.000278"
      ]
     },
     "metadata": {},
     "output_type": "display_data"
    }
   ],
   "source": [
    "# Check resolution of each file\n",
    "resolution_data = []\n",
    "for file in tiff_files:\n",
    "    try:\n",
    "        resolution = tiff_resampler.check_resolution(file)\n",
    "        resolution_data.append({\n",
    "            'file': os.path.basename(file),\n",
    "            'x_resolution': resolution[0],\n",
    "            'y_resolution': resolution[1]\n",
    "        })\n",
    "        print(f\"{os.path.basename(file)}: {resolution}\")\n",
    "    except Exception as e:\n",
    "        print(f\"Error reading {os.path.basename(file)}: {e}\")\n",
    "\n",
    "# Display as a table if there are files\n",
    "if resolution_data:\n",
    "    display(pd.DataFrame(resolution_data))"
   ]
  },
  {
   "cell_type": "markdown",
   "metadata": {},
   "source": [
    "## Resample Files in Parallel"
   ]
  },
  {
   "cell_type": "code",
   "execution_count": 15,
   "metadata": {},
   "outputs": [
    {
     "name": "stdout",
     "output_type": "stream",
     "text": [
      "Starting parallel processing of 8 files with 23 workers...\n",
      "Processing completed in 5.60 seconds\n"
     ]
    }
   ],
   "source": [
    "# Measure performance\n",
    "start_time = time.time()\n",
    "\n",
    "# Process files in parallel\n",
    "print(f\"Starting parallel processing of {len(tiff_files)} files with {num_workers} workers...\")\n",
    "results = tiff_resampler.resample_tiffs_parallel(\n",
    "    folder_path=folder_path,\n",
    "    target_resolution=target_resolution,\n",
    "    output_suffix=output_suffix,\n",
    "    max_workers=num_workers\n",
    ")\n",
    "\n",
    "# Calculate elapsed time\n",
    "elapsed_time = time.time() - start_time\n",
    "print(f\"Processing completed in {elapsed_time:.2f} seconds\")"
   ]
  },
  {
   "cell_type": "markdown",
   "metadata": {},
   "source": [
    "## Results Summary"
   ]
  },
  {
   "cell_type": "code",
   "execution_count": null,
   "metadata": {},
   "outputs": [],
   "source": [
    "# Count successes and failures\n",
    "successes = sum(1 for r in results if r['status'] == 'Success')\n",
    "failures = len(results) - successes\n",
    "\n",
    "# Display results summary\n",
    "print(\"\\nProcessing Results:\")\n",
    "print(\"-\" * 80)\n",
    "for result in results:\n",
    "    if result['status'] == 'Success':\n",
    "        print(f\"✓ {result['input_file']} -> {result['output_file']}\")\n",
    "        print(f\"  Original resolution: {result['original_resolution']}\")\n",
    "        print(f\"  New resolution: {result['new_resolution']}\")\n",
    "    else:\n",
    "        print(f\"✗ {result['input_file']}: {result['status']}\")\n",
    "    print(\"-\" * 80)\n",
    "\n",
    "print(f\"\\nSummary: {successes} files processed successfully, {failures} failed\")\n",
    "\n",
    "# Create a DataFrame for better visualization\n",
    "if results:\n",
    "    df_results = pd.DataFrame([\n",
    "        {\n",
    "            'File': r['input_file'],\n",
    "            'Output': r.get('output_file', 'N/A'),\n",
    "            'Status': 'Success' if r['status'] == 'Success' else r['status'],\n",
    "            'Original Resolution': r.get('original_resolution', 'N/A') if r['status'] == 'Success' else 'N/A',\n",
    "            'New Resolution': r.get('new_resolution', 'N/A') if r['status'] == 'Success' else 'N/A'\n",
    "        } for r in results\n",
    "    ])\n",
    "    \n",
    "    display(df_results)"
   ]
  },
  {
   "cell_type": "markdown",
   "metadata": {},
   "source": [
    "## Verify Output Files"
   ]
  },
  {
   "cell_type": "code",
   "execution_count": null,
   "metadata": {},
   "outputs": [],
   "source": [
    "# Verify output files have the correct resolution\n",
    "verification_results = tiff_resampler.verify_output_files(output_folder, target_resolution)\n",
    "\n",
    "print(f\"\\nVerifying {len(verification_results)} output files:\")\n",
    "for result in verification_results:\n",
    "    if result['status'] == 'Verified':\n",
    "        match_status = \"✓\" if result['matches_target'] else \"✗\"\n",
    "        print(f\"{match_status} {result['file']}: Resolution = {result['resolution']}\")\n",
    "    else:\n",
    "        print(f\"✗ {result['file']}: {result['status']}\")\n",
    "\n",
    "# Create a DataFrame for better visualization\n",
    "if verification_results:\n",
    "    df_verify = pd.DataFrame([\n",
    "        {\n",
    "            'File': r['file'],\n",
    "            'Resolution': r.get('resolution', 'N/A') if r['status'] == 'Verified' else 'N/A',\n",
    "            'Matches Target': r.get('matches_target', False) if r['status'] == 'Verified' else False,\n",
    "            'Status': r['status']\n",
    "        } for r in verification_results\n",
    "    ])\n",
    "    \n",
    "    display(df_verify)"
   ]
  },
  {
   "cell_type": "markdown",
   "metadata": {},
   "source": [
    "## Performance Analysis"
   ]
  },
  {
   "cell_type": "code",
   "execution_count": null,
   "metadata": {},
   "outputs": [],
   "source": [
    "# Calculate some performance metrics\n",
    "if len(tiff_files) > 0 and elapsed_time > 0:\n",
    "    avg_time_per_file = elapsed_time / len(tiff_files)\n",
    "    print(f\"Average processing time per file: {avg_time_per_file:.2f} seconds\")\n",
    "    print(f\"Files processed per second: {len(tiff_files) / elapsed_time:.2f}\")\n",
    "    print(f\"Estimated time savings with parallel processing: {len(tiff_files) * avg_time_per_file - elapsed_time:.2f} seconds\")"
   ]
  },
  {
   "cell_type": "markdown",
   "metadata": {},
   "source": [
    "## Test Single File Processing\n",
    "\n",
    "You can use this cell to test processing a single file if needed"
   ]
  },
  {
   "cell_type": "code",
   "execution_count": null,
   "metadata": {},
   "outputs": [],
   "source": [
    "def test_single_file(input_file, target_resolution=0.000833333):\n",
    "    \"\"\"Test resampling on a single file\"\"\"\n",
    "    if not os.path.exists(input_file):\n",
    "        print(f\"File not found: {input_file}\")\n",
    "        return\n",
    "    \n",
    "    # Generate output filename\n",
    "    base_name = os.path.splitext(os.path.basename(input_file))[0]\n",
    "    output_file = os.path.join(output_folder, f\"{base_name}_test.tif\")\n",
    "    \n",
    "    print(f\"Processing: {os.path.basename(input_file)} -> {os.path.basename(output_file)}\")\n",
    "    \n",
    "    start = time.time()\n",
    "    try:\n",
    "        # Resample the file\n",
    "        resolutions = tiff_resampler.resample_tiff(input_file, output_file, target_resolution)\n",
    "        elapsed = time.time() - start\n",
    "        \n",
    "        print(f\"Processing completed in {elapsed:.2f} seconds\")\n",
    "        print(f\"Original resolution: {resolutions[0]}\")\n",
    "        print(f\"New resolution: {resolutions[1]}\")\n",
    "        \n",
    "        return True\n",
    "        \n",
    "    except Exception as e:\n",
    "        print(f\"Error: {e}\")\n",
    "        return False\n",
    "\n",
    "# Uncomment and modify this line to test a specific file\n",
    "# test_single_file('./data/your_file.tif')"
   ]
  }
 ],
 "metadata": {
  "kernelspec": {
   "display_name": "Python 3 (ipykernel)",
   "language": "python",
   "name": "python3"
  },
  "language_info": {
   "codemirror_mode": {
    "name": "ipython",
    "version": 3
   },
   "file_extension": ".py",
   "mimetype": "text/x-python",
   "name": "python",
   "nbconvert_exporter": "python",
   "pygments_lexer": "ipython3",
   "version": "3.10.14"
  }
 },
 "nbformat": 4,
 "nbformat_minor": 4
}
