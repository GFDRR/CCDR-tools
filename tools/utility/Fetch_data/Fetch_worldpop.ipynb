{
 "cells": [
  {
   "cell_type": "markdown",
   "id": "c44a55d8",
   "metadata": {},
   "source": [
    "## HARVESTING OF POPULATION DATA FROM WORLDPOP-2020"
   ]
  },
  {
   "cell_type": "markdown",
   "id": "b91732f1",
   "metadata": {},
   "source": [
    "This script downloads Worldpop (2020) binary data at 100 m for a given country."
   ]
  },
  {
   "cell_type": "code",
   "execution_count": 2,
   "id": "89e439dd",
   "metadata": {},
   "outputs": [
    {
     "name": "stdout",
     "output_type": "stream",
     "text": [
      "File C:/Users/matti/Desktop/WorkTemp/Training/data/EXP/NPL_POP2020.tif already exists. Skipping download.\n"
     ]
    }
   ],
   "source": [
    "import requests\n",
    "import os\n",
    "from tqdm import tqdm\n",
    "\n",
    "DATA_DIR = \"C:/Users/matti/Desktop/WorkTemp/Training/data\"\n",
    "\n",
    "def fetch_population_data(iso3, year, data_type):\n",
    "    base_url = \"https://data.worldpop.org/GIS/Population/\"\n",
    "    dataset_path = f\"Global_2000_2020_Constrained/{year}/BSGM/{iso3}/{iso3.lower()}_ppp_{year}_{data_type}.tif\"\n",
    "    download_url = f\"{base_url}{dataset_path}\"\n",
    "    file_name = f\"{DATA_DIR}/EXP/{iso3}_POP{year}.tif\"\n",
    "    \n",
    "    # Check if file already exists\n",
    "    if os.path.exists(file_name):\n",
    "        print(f\"File {file_name} already exists. Skipping download.\")\n",
    "        return\n",
    "\n",
    "    try:\n",
    "        response = requests.get(download_url, stream=True)\n",
    "        if response.status_code == 200:\n",
    "            total_size = int(response.headers.get('content-length', 0))\n",
    "            \n",
    "            # Ensure the directory exists\n",
    "            os.makedirs(os.path.dirname(file_name), exist_ok=True)\n",
    "            \n",
    "            # Download with progress bar\n",
    "            with open(file_name, 'wb') as file, tqdm(\n",
    "                desc=f\"Downloading {iso3}_POP{year}.tif\",\n",
    "                total=total_size,\n",
    "                unit='iB',\n",
    "                unit_scale=True,\n",
    "                unit_divisor=1024,\n",
    "            ) as progress_bar:\n",
    "                for data in response.iter_content(chunk_size=1024):\n",
    "                    size = file.write(data)\n",
    "                    progress_bar.update(size)\n",
    "            \n",
    "            print(f\"Data downloaded successfully and saved as {file_name}\")\n",
    "        else:\n",
    "            print(f\"Failed to fetch data. Status code: {response.status_code}\")\n",
    "            print(f\"Response text: {response.text}\")\n",
    "    except requests.exceptions.RequestException as e:\n",
    "        print(f\"An error occurred: {e}\")\n",
    "\n",
    "# Example usage\n",
    "fetch_population_data(\"NPL\", 2020, \"UNadj_constrained\")"
   ]
  },
  {
   "cell_type": "code",
   "execution_count": null,
   "id": "cdcc0be7",
   "metadata": {},
   "outputs": [],
   "source": []
  }
 ],
 "metadata": {
  "kernelspec": {
   "display_name": "Python 3 (ipykernel)",
   "language": "python",
   "name": "python3"
  },
  "language_info": {
   "codemirror_mode": {
    "name": "ipython",
    "version": 3
   },
   "file_extension": ".py",
   "mimetype": "text/x-python",
   "name": "python",
   "nbconvert_exporter": "python",
   "pygments_lexer": "ipython3",
   "version": "3.10.2"
  }
 },
 "nbformat": 4,
 "nbformat_minor": 5
}
