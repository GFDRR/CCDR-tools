{
 "cells": [
  {
   "cell_type": "markdown",
   "id": "7649c0d9",
   "metadata": {},
   "source": [
    "# Fetch Administrative boundaries from WB ArcGIS repo based on country code"
   ]
  },
  {
   "cell_type": "code",
   "execution_count": 1,
   "id": "500afc12",
   "metadata": {},
   "outputs": [],
   "source": [
    "import requests\n",
    "import geopandas as gpd\n",
    "from shapely.geometry import shape\n",
    "\n",
    "# Define the REST API URL\n",
    "rest_api_url = \"https://services.arcgis.com/iQ1dY19aHwbSDYIF/ArcGIS/rest/services/World_Bank_Global_Administrative_Divisions_VIEW/FeatureServer\"\n"
   ]
  },
  {
   "cell_type": "code",
   "execution_count": 2,
   "id": "5e061564",
   "metadata": {},
   "outputs": [],
   "source": [
    "# Function to get the correct layer ID based on administrative level\n",
    "def get_layer_id_for_adm(adm_level):\n",
    "    layers_url = f\"{rest_api_url}/layers\"\n",
    "    response = requests.get(layers_url, params={'f': 'json'})\n",
    "\n",
    "    if response.status_code == 200:\n",
    "        layers_info = response.json().get('layers', [])\n",
    "        target_layer_name = f\"WB_GAD_ADM{adm_level}\"\n",
    "        \n",
    "        for layer in layers_info:\n",
    "            if layer['name'] == target_layer_name:\n",
    "                return layer['id']\n",
    "        \n",
    "        print(f\"Layer matching {target_layer_name} not found.\")\n",
    "        return None\n",
    "    else:\n",
    "        print(f\"Failed to fetch layers. Status code: {response.status_code}\")\n",
    "        return None\n",
    "\n",
    "# Function to fetch the ADM data using the correct layer ID\n",
    "def get_adm_data(country, adm_level):\n",
    "    layer_id = get_layer_id_for_adm(adm_level)\n",
    "    \n",
    "    if layer_id is not None:\n",
    "        query_url = f\"{rest_api_url}/{layer_id}/query\"\n",
    "        params = {\n",
    "            'where': f\"ISO_A3 = '{country}'\",\n",
    "            'outFields': '*',\n",
    "            'f': 'geojson'\n",
    "        }\n",
    "        \n",
    "        response = requests.get(query_url, params=params)\n",
    "        \n",
    "        if response.status_code == 200:\n",
    "            data = response.json()\n",
    "            features = data.get('features', [])\n",
    "            if features:\n",
    "                geometry = [shape(feature['geometry']) for feature in features]\n",
    "                properties = [feature['properties'] for feature in features]\n",
    "                gdf = gpd.GeoDataFrame(properties, geometry=geometry)\n",
    "\n",
    "                return gdf\n",
    "            else:\n",
    "                print(\"No features found for the specified query.\")\n",
    "                return None\n",
    "        else:\n",
    "            print(f\"Error fetching data: {response.status_code}\")\n",
    "            return None\n",
    "    else:\n",
    "        print(\"Invalid administrative level or layer mapping not found.\")\n",
    "        return None\n",
    "\n",
    "# Mapping of administrative levels to field names\n",
    "adm_field_mapping = {\n",
    "    0: {'code': 'HASC_0', 'name': 'NAM_0'},\n",
    "    1: {'code': 'HASC_1', 'name': 'NAM_1'},\n",
    "    2: {'code': 'HASC_2', 'name': 'NAM_2'},\n",
    "    # Add mappings for additional levels as needed\n",
    "}\n"
   ]
  },
  {
   "cell_type": "code",
   "execution_count": 5,
   "id": "7787e279",
   "metadata": {},
   "outputs": [],
   "source": [
    "# Example usage\n",
    "country = 'BGD'  # Tunisia's ISO_A3 code\n",
    "adm_level = 2    # Administrative level (e.g., ADM1)\n",
    "\n",
    "# Fetch the data\n",
    "adm_data = get_adm_data(country, adm_level)\n",
    "\n",
    "if adm_data is not None:\n",
    "    # Get the correct field names based on the administrative level\n",
    "    field_names = adm_field_mapping.get(adm_level, {})\n",
    "    code_field = field_names.get('code')\n",
    "    name_field = field_names.get('name')\n",
    "\n",
    "    if code_field and name_field:\n",
    "        # Extract the relevant columns\n",
    "        all_adm_codes = adm_data.columns.str.contains(\"HASC_\")\n",
    "        all_adm_names = adm_data.columns.str.contains(\"NAM_\")\n",
    "        all_adm_codes = adm_data.columns[all_adm_codes].to_list()\n",
    "        all_adm_names = adm_data.columns[all_adm_names].to_list()\n",
    "    else:\n",
    "        print(f\"Field names for ADM level {adm_level} not found.\")\n",
    "else:\n",
    "    print(\"Missing ADM data!\")\n"
   ]
  },
  {
   "cell_type": "code",
   "execution_count": 6,
   "id": "52a5e655",
   "metadata": {},
   "outputs": [
    {
     "name": "stdout",
     "output_type": "stream",
     "text": [
      "Administrative Codes: ['HASC_0', 'HASC_1', 'HASC_2']\n",
      "Administrative Names: ['NAM_0', 'NAM_1', 'NAM_1_GAUL', 'NAM_1_STAT', 'NAM_1_SRCE', 'NAM_1_NTVE', 'NAM_1_WIKI', 'NAM_2', 'NAM_2_GAUL', 'NAM_2_STAT', 'NAM_2_SRCE', 'NAM_2_NTVE', 'NAM_2_WIKI', 'NAM_0_Alt']\n"
     ]
    }
   ],
   "source": [
    "print(\"Administrative Codes:\", all_adm_codes)\n",
    "print(\"Administrative Names:\", all_adm_names)"
   ]
  },
  {
   "cell_type": "code",
   "execution_count": null,
   "id": "6d2a2c97",
   "metadata": {},
   "outputs": [],
   "source": []
  }
 ],
 "metadata": {
  "kernelspec": {
   "display_name": "Python 3 (ipykernel)",
   "language": "python",
   "name": "python3"
  },
  "language_info": {
   "codemirror_mode": {
    "name": "ipython",
    "version": 3
   },
   "file_extension": ".py",
   "mimetype": "text/x-python",
   "name": "python",
   "nbconvert_exporter": "python",
   "pygments_lexer": "ipython3",
   "version": "3.10.2"
  }
 },
 "nbformat": 4,
 "nbformat_minor": 5
}
