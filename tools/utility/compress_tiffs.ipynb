{
 "cells": [
  {
   "cell_type": "markdown",
   "metadata": {},
   "source": [
    "# Parallel TIFF Compression\n",
    "\n",
    "This notebook compresses uncompressed TIFF files using parallel processing.\n",
    "\n",
    "Requirements:\n",
    "- GDAL library\n",
    "- tiff_compressor.py module in the same directory\n",
    "\n",
    "The script will automatically use (CPU count - 1) processes for compression."
   ]
  },
  {
   "cell_type": "code",
   "execution_count": 1,
   "metadata": {},
   "outputs": [
    {
     "name": "stdout",
     "output_type": "stream",
     "text": [
      "Input directory: X:\\Work\\Geodata\\BRI\\PACIFIC\n",
      "Output directory: X:\\Work\\Geodata\\BRI\\PACIFIC\\compressed_tiffs\n",
      "Skipping X:\\Work\\Geodata\\BRI\\PACIFIC\\PACIFIC-TREE_COVER\\TreeCoverEast-Pacific.tif (already compressed or invalid)\n",
      "Error getting TIFF info for X:\\Work\\Geodata\\BRI\\PACIFIC\\PACIFIC-TSUNAMI\\pacific-east-Tsunami.tif: pacific-east-Tsunami.tif: TIFFReadDirectory:Failed to read directory at offset 7868596248\n",
      "May be caused by: pacific-east-Tsunami.tif: X:\\Work\\Geodata\\BRI\\PACIFIC\\PACIFIC-TSUNAMI\\pacific-east-Tsunami.tif:Failed to allocate memory for to read TIFF directory (0 elements of 20 bytes each)\n",
      "Skipping X:\\Work\\Geodata\\BRI\\PACIFIC\\PACIFIC-TSUNAMI\\pacific-east-Tsunami.tif (already compressed or invalid)\n",
      "\n",
      "Processing 4 files using 23 processes...\n",
      "\n",
      "Processing complete!\n",
      "Successfully compressed: 4 files\n",
      "Errors encountered: 0 files\n",
      "Total time: 319.9 seconds\n"
     ]
    }
   ],
   "source": [
    "from pathlib import Path\n",
    "import tiff_compressor\n",
    "import time\n",
    "\n",
    "# Set your input and output directories here\n",
    "input_dir = Path(r'X:/Work/Geodata/BRI/PACIFIC')\n",
    "output_dir = input_dir / 'compressed_tiffs'\n",
    "\n",
    "print(f\"Input directory: {input_dir}\")\n",
    "print(f\"Output directory: {output_dir}\")\n",
    "\n",
    "# Start timing\n",
    "start_time = time.time()\n",
    "\n",
    "# Process the files\n",
    "processed_count, error_count = tiff_compressor.process_directory(input_dir, output_dir)\n",
    "\n",
    "# Calculate elapsed time\n",
    "elapsed_time = time.time() - start_time\n",
    "\n",
    "print(f\"\\nProcessing complete!\")\n",
    "print(f\"Successfully compressed: {processed_count} files\")\n",
    "print(f\"Errors encountered: {error_count} files\")\n",
    "print(f\"Total time: {elapsed_time:.1f} seconds\")"
   ]
  },
  {
   "cell_type": "code",
   "execution_count": null,
   "metadata": {},
   "outputs": [],
   "source": []
  }
 ],
 "metadata": {
  "kernelspec": {
   "display_name": "Python 3 (ipykernel)",
   "language": "python",
   "name": "python3"
  },
  "language_info": {
   "codemirror_mode": {
    "name": "ipython",
    "version": 3
   },
   "file_extension": ".py",
   "mimetype": "text/x-python",
   "name": "python",
   "nbconvert_exporter": "python",
   "pygments_lexer": "ipython3",
   "version": "3.10.14"
  }
 },
 "nbformat": 4,
 "nbformat_minor": 4
}
