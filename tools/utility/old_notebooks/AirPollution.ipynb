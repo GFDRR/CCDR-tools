{
 "cells": [
  {
   "cell_type": "markdown",
   "id": "7ba77d7d",
   "metadata": {},
   "source": [
    "CCDR Hazard Analysis Notebook\n",
    "Developed by M. Amadio and T. Iwanaga"
   ]
  },
  {
   "cell_type": "code",
   "execution_count": 8,
   "id": "27ad9a5b-154d-4f7a-8579-59487c6a7d76",
   "metadata": {},
   "outputs": [],
   "source": [
    "from common import *  # import necessary packages\n",
    "import utils.common\n",
    "import utils.AirPollution\n",
    "\n",
    "%matplotlib inline"
   ]
  },
  {
   "cell_type": "code",
   "execution_count": 9,
   "id": "53ebd7a3",
   "metadata": {},
   "outputs": [],
   "source": [
    "def run_analysis(rb):\n",
    "    with output:\n",
    "        output.clear_output()\n",
    "        print(\"Running analysis...\")\n",
    "        rb.disabled = True\n",
    "        \n",
    "    analysis_type = analysis_app_dd.value\n",
    "\n",
    "    if analysis_type == \"Classes\":\n",
    "        # Ensure values are valid\n",
    "        bin_seq = [w.value for w in class_edges.values()]\n",
    "        \n",
    "        seq = np.all([True if bin_seq[i] < bin_seq[i+1] else False for i in range(0, len(bin_seq)-1)])\n",
    "        \n",
    "        if not seq:\n",
    "            ValueError(\"Class thresholds are not sequential. Lower classes must be less than class thresholds above.\")\n",
    "            rb.disabled = False\n",
    "            return\n",
    "\n",
    "        max_bin_value = np.max(bin_seq)\n",
    "        max_haz_threshold = max_bin_value + 1e-4\n",
    "        bin_seq = bin_seq + [np.inf]\n",
    "        num_bins = len(bin_seq)\n",
    "\n",
    "    # Get user input\n",
    "    country = country_dd.value\n",
    "    exp_cat = exp_cat_dd.value\n",
    "    target_ADM = adm_dd.value\n",
    "    adm_name = target_ADM.replace('_', '')\n",
    "\n",
    "    min_haz_threshold = class_edges['class_1'].value\n",
    "\n",
    "    rp = 10  # Only one layer for AirPollution\n",
    "\n",
    "    # Testing data file locations\n",
    "    # TODO: Temp data store, to be replaced with a config spec (.env file?) before deployment\n",
    "        \n",
    "    if exp_cat_dd.value == 'pop':\n",
    "        exp_ras = f\"{DATA_DIR}/EXP/{country}_WPOP20.tif\"\n",
    "    elif exp_cat_dd.value == 'builtup':\n",
    "        exp_ras = f\"{DATA_DIR}/EXP/{country}_WSF19.tif\"\n",
    "    elif exp_cat_dd.value == 'agri':\n",
    "        exp_ras = f\"{DATA_DIR}/EXP/{country}_ESA20_agri.tif\"\n",
    "    else:\n",
    "        ValueError(\"Missing data layer\")\n",
    "\n",
    "    # Hazard data location\n",
    "    hazard_RP_data_loc = f\"{DATA_DIR}/HZD\"\n",
    "\n",
    "    # Run analysis\n",
    "\n",
    "    # Open exposure dataset\n",
    "    exp_data = rxr.open_rasterio(exp_ras)\n",
    "\n",
    "    # Indicate -1 values as representing no data.\n",
    "    exp_data.rio.write_nodata(-1, inplace=True)\n",
    "\n",
    "    # Load ADM based on country code value\n",
    "    try:\n",
    "        adm_dataset = gpd.read_file(os.path.join(DATA_DIR, f\"ADM/{country}_ADM.gpkg\"), layer=f\"{country}_{adm_name}\")\n",
    "    except ValueError:\n",
    "        print(\"Missing ADM layer!\")\n",
    "  \n",
    "    adm_data = adm_dataset.loc[adm_dataset.ADM0_CODE == utils.AirPollution.country_code_map[country], :]\n",
    "    \n",
    "    # Get all ADM code/name columns to save with results\n",
    "    adm_cols = adm_data.columns\n",
    "    all_adm_codes = adm_data.columns.str.contains(\"_CODE\")\n",
    "    all_adm_names = adm_data.columns.str.contains(\"_NAME\")\n",
    "    \n",
    "    all_adm_name_tmp = adm_cols[all_adm_names].tolist()\n",
    "    all_adm_code_tmp = adm_cols[all_adm_codes].to_list()\n",
    "\n",
    "    result_df = adm_data.loc[:, all_adm_code_tmp + all_adm_name_tmp + [\"geometry\"]]\n",
    "        \n",
    "    # Load corresponding hazard dataset\n",
    "    hazard_rst = rxr.open_rasterio(os.path.join(hazard_RP_data_loc, f\"GLB_AP.tif\"))\n",
    "\n",
    "    # Get total exposure for each ADM region\n",
    "    exp_per_ADM = gen_zonal_stats(vectors=adm_data[\"geometry\"], raster=exp_ras, stats=[\"sum\"])\n",
    "\n",
    "    result_df[f\"{adm_name}_{exp_cat}\"] = [x['sum'] for x in exp_per_ADM]\n",
    "\n",
    "    # Reproject and clip raster to same bounds as exposure data\n",
    "    hazard_rst = hazard_rst.rio.reproject_match(exp_data)\n",
    "\n",
    "    # Get raw array values for exposure and hazard layer\n",
    "    hazard_arr = hazard_rst[0].values\n",
    "\n",
    "    hazard_arr[hazard_arr < min_haz_threshold] = 0  # Set values below min threshold to 0\n",
    "    hazard_arr[hazard_arr > max_bin_value] = max_haz_threshold  # Cap large values to maximum threshold value\n",
    "\n",
    "    # Calculate affected exposure in ADM        \n",
    "    # Filter down to valid areas\n",
    "    valid_impact_areas = hazard_rst.values > 0\n",
    "    affected_exp = exp_data.where(valid_impact_areas)  # Get total exposure in affected areas\n",
    "    affected_exp = affected_exp.where(affected_exp > 0)  # Out of the above, get areas that have people\n",
    "\n",
    "    if save_inter_rst_chk.value:\n",
    "        affected_exp.rio.to_raster(os.path.join(OUTPUT_DIR, f\"{country}_AP_{rp}_{exp_cat}_hazard_affected_.tif\"))\n",
    "\n",
    "    # Conduct analyses for classes\n",
    "    # Assign bin values to raster data\n",
    "    # Follows: x_{i-1} <= x_{i} < x_{i+1}\n",
    "    bin_idx = np.digitize(hazard_arr, bin_seq)\n",
    "\n",
    "    for bin_x in range(1, num_bins):\n",
    "        impact_class = gen_zonal_stats(vectors=adm_data[\"geometry\"], raster=np.array(bin_idx == bin_x).astype(int) * affected_exp.data[0],\n",
    "                            stats=[\"sum\"], affine=affected_exp.rio.transform(), nodata=np.nan)\n",
    "        result_df[f\"{exp_cat}_C{bin_x}\"] = [x['sum'] for x in impact_class]\n",
    "    # end\n",
    "\n",
    "    C_cols = result_df.columns.str.contains(f\"{exp_cat}_C\")\n",
    "    result_df[f\"{exp_cat}_tot_exposed\"] = result_df.loc[:, C_cols].sum(axis=1)\n",
    "\n",
    "\n",
    "    # Round to three decimal places to avoid giving the impression of high precision\n",
    "    result_df = result_df.round(3)\n",
    "\n",
    "    # Write table of total population in each class, in each ADM2\n",
    "    df_cols = result_df.columns\n",
    "\n",
    "    no_geom = result_df.loc[:, df_cols[~df_cols.isin(['geometry'])]].fillna(0)\n",
    "    no_geom.to_csv(os.path.join(OUTPUT_DIR, f\"{country}_AP_{adm_name}_{exp_cat}_class.csv\"), index=False)\n",
    "    result_df.to_file(os.path.join(OUTPUT_DIR, f\"{country}_AP_{adm_name}_{exp_cat}_class.gpkg\"))\n",
    "\n",
    "    with output:\n",
    "        print(\"Finished analysis.\")\n",
    "        rb.disabled = False\n"
   ]
  },
  {
   "cell_type": "code",
   "execution_count": 10,
   "id": "526bfa3f",
   "metadata": {},
   "outputs": [],
   "source": [
    "# Data option widgets\n",
    "\n",
    "country_dd = utils.common.create_country_dd(\n",
    "    utils.AirPollution.country_list['country_options'],\n",
    "    utils.AirPollution.country_list['default_value']\n",
    ")\n",
    "\n",
    "exp_cat_dd = utils.common.exp_cat_dd\n",
    "adm_dd = utils.common.adm3_dd\n",
    "analysis_app_dd = utils.AirPollution.analysis_app_dd\n",
    "\n",
    "class_edges = utils.common.create_class_edges(\n",
    "    utils.AirPollution.class_edges_list['class_list'],\n",
    "    utils.AirPollution.class_edges_list['min_val'],\n",
    "    utils.AirPollution.class_edges_list['max_val'],\n",
    "    utils.AirPollution.class_edges_list['step_size'],    \n",
    ")\n",
    "\n",
    "\n",
    "# User action widgets\n",
    "save_inter_rst_chk = utils.common.save_inter_rst_chk\n",
    "\n",
    "# Run button to perform analysis\n",
    "run_button = utils.common.run_button\n",
    "\n",
    "reset_display_button = utils.common.reset_display_button\n",
    "\n",
    "\n",
    "def reset_display(bt):\n",
    "    output.clear_output()\n",
    "    run_button.disabled = False\n",
    "\n",
    "run_button.on_click(run_analysis)\n",
    "reset_display_button.on_click(reset_display)"
   ]
  },
  {
   "cell_type": "code",
   "execution_count": 11,
   "id": "59a0428c",
   "metadata": {
    "tags": []
   },
   "outputs": [
    {
     "data": {
      "application/vnd.jupyter.widget-view+json": {
       "model_id": "bdef4018d7ad4d2490bbc740f5488495",
       "version_major": 2,
       "version_minor": 0
      },
      "text/plain": [
       "Dropdown(description='Country:', options=(('Nepal', 'NPL'), ('Pakistan', 'PAK'), ('Bangladesh', 'BGD'), ('Ghan…"
      ]
     },
     "metadata": {},
     "output_type": "display_data"
    },
    {
     "data": {
      "application/vnd.jupyter.widget-view+json": {
       "model_id": "2e5bfc330c8e4459a4837efd11085703",
       "version_major": 2,
       "version_minor": 0
      },
      "text/plain": [
       "Dropdown(description='Exposure Category:', options=(('Population', 'pop'), ('Built-up', 'builtup'), ('Agricult…"
      ]
     },
     "metadata": {},
     "output_type": "display_data"
    },
    {
     "data": {
      "application/vnd.jupyter.widget-view+json": {
       "model_id": "af4cabd6a5b1437285ed2b5be6751707",
       "version_major": 2,
       "version_minor": 0
      },
      "text/plain": [
       "Dropdown(description='Administrative Unit Level:', index=1, options=('ADM1', 'ADM2', 'ADM3'), style=Descriptio…"
      ]
     },
     "metadata": {},
     "output_type": "display_data"
    },
    {
     "data": {
      "application/vnd.jupyter.widget-view+json": {
       "model_id": "35a56445a2134ec695dadae37ae2d8c6",
       "version_major": 2,
       "version_minor": 0
      },
      "text/plain": [
       "Dropdown(description='Analysis Approach:', options=('Classes',), style=DescriptionStyle(description_width='ini…"
      ]
     },
     "metadata": {},
     "output_type": "display_data"
    },
    {
     "data": {
      "application/vnd.jupyter.widget-view+json": {
       "model_id": "7f9a01123697438f99a27c3d338aa0e1",
       "version_major": 2,
       "version_minor": 0
      },
      "text/plain": [
       "BoundedFloatText(value=7.5, description='Class 1:', step=0.5)"
      ]
     },
     "metadata": {},
     "output_type": "display_data"
    },
    {
     "data": {
      "application/vnd.jupyter.widget-view+json": {
       "model_id": "aabe568cfc7e4aca93b0610d4a5314f4",
       "version_major": 2,
       "version_minor": 0
      },
      "text/plain": [
       "BoundedFloatText(value=12.5, description='Class 2:', step=0.5)"
      ]
     },
     "metadata": {},
     "output_type": "display_data"
    },
    {
     "data": {
      "application/vnd.jupyter.widget-view+json": {
       "model_id": "50797cb2b69e4bd5b02c7befebf311cc",
       "version_major": 2,
       "version_minor": 0
      },
      "text/plain": [
       "BoundedFloatText(value=22.5, description='Class 3:', step=0.5)"
      ]
     },
     "metadata": {},
     "output_type": "display_data"
    },
    {
     "data": {
      "application/vnd.jupyter.widget-view+json": {
       "model_id": "bc38603097a34b589fcfbcd6240dc889",
       "version_major": 2,
       "version_minor": 0
      },
      "text/plain": [
       "BoundedFloatText(value=32.5, description='Class 4:', step=0.5)"
      ]
     },
     "metadata": {},
     "output_type": "display_data"
    },
    {
     "data": {
      "application/vnd.jupyter.widget-view+json": {
       "model_id": "d76de280c70c42e585f3bb597d51cb12",
       "version_major": 2,
       "version_minor": 0
      },
      "text/plain": [
       "BoundedFloatText(value=37.5, description='Class 5:', step=0.5)"
      ]
     },
     "metadata": {},
     "output_type": "display_data"
    },
    {
     "data": {
      "application/vnd.jupyter.widget-view+json": {
       "model_id": "e721cfe56bb74354850980e58f82809f",
       "version_major": 2,
       "version_minor": 0
      },
      "text/plain": [
       "HBox(children=(Button(description='Run Analysis', style=ButtonStyle(), tooltip='Click to run analysis with sel…"
      ]
     },
     "metadata": {},
     "output_type": "display_data"
    },
    {
     "data": {
      "application/vnd.jupyter.widget-view+json": {
       "model_id": "232b520a27954b0d8a1753e1769015f1",
       "version_major": 2,
       "version_minor": 0
      },
      "text/plain": [
       "Button(description='Reset', style=ButtonStyle(), tooltip='Reset display')"
      ]
     },
     "metadata": {},
     "output_type": "display_data"
    },
    {
     "data": {
      "application/vnd.jupyter.widget-view+json": {
       "model_id": "23e0669e7a154b96b08105cf308ded86",
       "version_major": 2,
       "version_minor": 0
      },
      "text/plain": [
       "Output()"
      ]
     },
     "metadata": {},
     "output_type": "display_data"
    }
   ],
   "source": [
    "display(country_dd)\n",
    "display(exp_cat_dd)\n",
    "display(adm_dd)\n",
    "display(analysis_app_dd)\n",
    "[display(w) for w in class_edges.values()]\n",
    "\n",
    "display(HBox([run_button, save_inter_rst_chk]), \n",
    "              reset_display_button)\n",
    "\n",
    "output = widgets.Output()\n",
    "display(output)"
   ]
  },
  {
   "cell_type": "code",
   "execution_count": null,
   "id": "fe9e32f3",
   "metadata": {},
   "outputs": [],
   "source": []
  }
 ],
 "metadata": {
  "interpreter": {
   "hash": "b6d8b26c4f649b8a27f8996ac75dd87b5987470d4d00d1b2c02ba594e155f4b5"
  },
  "kernelspec": {
   "display_name": "Python 3 (ipykernel)",
   "language": "python",
   "name": "python3"
  },
  "language_info": {
   "codemirror_mode": {
    "name": "ipython",
    "version": 3
   },
   "file_extension": ".py",
   "mimetype": "text/x-python",
   "name": "python",
   "nbconvert_exporter": "python",
   "pygments_lexer": "ipython3",
   "version": "3.10.2"
  }
 },
 "nbformat": 4,
 "nbformat_minor": 5
}
