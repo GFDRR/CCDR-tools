{
 "cells": [
  {
   "cell_type": "markdown",
   "id": "7ba77d7d",
   "metadata": {},
   "source": [
    "CCDR Hazard Analysis Notebook\n",
    "Developed by M. Amadio and T. Iwanaga"
   ]
  },
  {
   "cell_type": "markdown",
   "id": "ac753515",
   "metadata": {},
   "source": [
    " # Choose your hazard:\n",
    " \n",
    " ## [Floods](Flood.ipynb)\n",
    "     Three hazard return periods (10, 100, 1000 years)\n",
    "     Impact on population and built-up\n",
    "     Exposure of agricultural land to water depth classes \n",
    " ## [Coastal floods](Coastal_flood.ipynb)\n",
    "     Three hazard return periods (10, 100, 1000 years)\n",
    "     Impact on population and built-up\n",
    "     Exposure of agricultural land to water depth classes \n",
    " ## [Heat stress](Heat_stress.ipynb)\n",
    "     Three hazard return periods (5, 20, 100 years)\n",
    "     Exposure of population to increased mortality\n",
    " ## [Landslides](Landslide.ipynb)\n",
    "     One hazard layer representing periodic/annual mean\n",
    "     Exposure of population and built-up to hazard classes\n",
    " ## [Tropical cyclones](Tropical_cyclones.ipynb)\n",
    "     Three hazard return periods (10, 100, 1000 years)\n",
    "     Impact on built-up\n",
    " ## Agricultural drought\n",
    " \n",
    " # Environmental factors:\n",
    " ## [Air Pollution](AirPollution.ipynb)\n",
    "     One hazard layer representing periodic/annual mean\n",
    "     Exposure of population to hazard classes"
   ]
  },
  {
   "cell_type": "code",
   "execution_count": null,
   "id": "f99d3cad",
   "metadata": {},
   "outputs": [],
   "source": []
  }
 ],
 "metadata": {
  "interpreter": {
   "hash": "b6d8b26c4f649b8a27f8996ac75dd87b5987470d4d00d1b2c02ba594e155f4b5"
  },
  "kernelspec": {
   "display_name": "Python 3 (ipykernel)",
   "language": "python",
   "name": "python3"
  },
  "language_info": {
   "codemirror_mode": {
    "name": "ipython",
    "version": 3
   },
   "file_extension": ".py",
   "mimetype": "text/x-python",
   "name": "python",
   "nbconvert_exporter": "python",
   "pygments_lexer": "ipython3",
   "version": "3.10.2"
  }
 },
 "nbformat": 4,
 "nbformat_minor": 5
}
